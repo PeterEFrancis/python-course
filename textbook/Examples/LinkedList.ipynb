{
 "cells": [
  {
   "cell_type": "markdown",
   "metadata": {},
   "source": [
    "# Linked List"
   ]
  },
  {
   "cell_type": "code",
   "execution_count": 1,
   "metadata": {},
   "outputs": [],
   "source": [
    "class LinkedListNode:\n",
    "    def __init__(self, item, nextNode=None):\n",
    "        self.item = item\n",
    "        self.nextNode = nextNode"
   ]
  },
  {
   "cell_type": "code",
   "execution_count": 2,
   "metadata": {},
   "outputs": [],
   "source": [
    "class LinkedList:\n",
    "        \n",
    "    def throwEmptyError():\n",
    "        raise ValueError(\"Linked List is Empty!\")\n",
    "    \n",
    "    def __init__(self):\n",
    "        self.head = None\n",
    "        self.tail = None\n",
    "\n",
    "    def isEmpty(self):\n",
    "        return self.head is None\n",
    "    \n",
    "    def getHead(self):\n",
    "        if self.isEmpty():\n",
    "            LinkedList.throwEmptyError()\n",
    "        return self.head.item\n",
    "    \n",
    "    def getTail(self):\n",
    "        if self.isEmpty():\n",
    "            LinkedList.throwEmptyError()\n",
    "        return self.tail.item\n",
    "    \n",
    "    def addToHead(self, item):\n",
    "        newNode = LinkedListNode(item, self.head)\n",
    "        self.head = newNode\n",
    "        if self.tail is None:\n",
    "            self.tail = newNode\n",
    "    \n",
    "    def addToTail(self, item):\n",
    "        newNode = LinkedListNode(item)\n",
    "        if self.tail is None:\n",
    "            self.head = newNode\n",
    "        else:\n",
    "            self.tail.nextNode = newNode\n",
    "        self.tail = newNode\n",
    "        \n",
    "    def removeHead(self):\n",
    "        if self.isEmpty():\n",
    "            LinkedList.throwEmptyError()\n",
    "        currentHead = self.head\n",
    "        self.head = self.head.nextNode\n",
    "        if self.head is None:\n",
    "            self.tail = None\n",
    "        return currentHead.item\n",
    "    \n",
    "    def __str__(self):\n",
    "        l = []\n",
    "        current = self.head\n",
    "        while current is not None:\n",
    "            l.append(current.item)\n",
    "            current = current.nextNode\n",
    "        return str(l)"
   ]
  },
  {
   "cell_type": "code",
   "execution_count": 3,
   "metadata": {},
   "outputs": [],
   "source": [
    "fruit = LinkedList()\n",
    "\n",
    "fruit.addToHead(\"apple\")\n",
    "fruit.addToHead(\"bannana\")\n",
    "fruit.addToHead(\"cherry\")\n",
    "\n",
    "fruit.addToTail(\"drupe\")"
   ]
  },
  {
   "cell_type": "code",
   "execution_count": 4,
   "metadata": {},
   "outputs": [
    {
     "name": "stdout",
     "output_type": "stream",
     "text": [
      "['cherry', 'bannana', 'apple', 'drupe']\n"
     ]
    }
   ],
   "source": [
    "print(fruit)"
   ]
  },
  {
   "cell_type": "code",
   "execution_count": 5,
   "metadata": {},
   "outputs": [
    {
     "data": {
      "text/plain": [
       "'cherry'"
      ]
     },
     "execution_count": 5,
     "metadata": {},
     "output_type": "execute_result"
    }
   ],
   "source": [
    "fruit.removeHead()"
   ]
  },
  {
   "cell_type": "code",
   "execution_count": 6,
   "metadata": {},
   "outputs": [
    {
     "name": "stdout",
     "output_type": "stream",
     "text": [
      "['bannana', 'apple', 'drupe']\n"
     ]
    }
   ],
   "source": [
    "print(fruit)"
   ]
  },
  {
   "cell_type": "code",
   "execution_count": 7,
   "metadata": {},
   "outputs": [
    {
     "data": {
      "text/plain": [
       "'bannana'"
      ]
     },
     "execution_count": 7,
     "metadata": {},
     "output_type": "execute_result"
    }
   ],
   "source": [
    "fruit.getHead()"
   ]
  },
  {
   "cell_type": "code",
   "execution_count": 8,
   "metadata": {},
   "outputs": [
    {
     "name": "stdout",
     "output_type": "stream",
     "text": [
      "['bannana', 'apple', 'drupe']\n"
     ]
    }
   ],
   "source": [
    "print(fruit)"
   ]
  }
 ],
 "metadata": {
  "kernelspec": {
   "display_name": "Python 3",
   "language": "python",
   "name": "python3"
  },
  "language_info": {
   "codemirror_mode": {
    "name": "ipython",
    "version": 3
   },
   "file_extension": ".py",
   "mimetype": "text/x-python",
   "name": "python",
   "nbconvert_exporter": "python",
   "pygments_lexer": "ipython3",
   "version": "3.7.7"
  }
 },
 "nbformat": 4,
 "nbformat_minor": 4
}
