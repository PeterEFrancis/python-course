{
 "cells": [
  {
   "cell_type": "markdown",
   "metadata": {},
   "source": [
    "# Solutions\n",
    "### Chapter 4: input and output "
   ]
  },
  {
   "cell_type": "markdown",
   "metadata": {},
   "source": [
    "### 1"
   ]
  },
  {
   "cell_type": "code",
   "execution_count": 1,
   "metadata": {},
   "outputs": [
    {
     "name": "stdin",
     "output_type": "stream",
     "text": [
      "Enter a complex number:  3+4j\n"
     ]
    },
    {
     "name": "stdout",
     "output_type": "stream",
     "text": [
      "The complex conjugate of (3+4j) is (5+0j).\n"
     ]
    }
   ],
   "source": [
    "a = complex(input(\"Enter a complex number: \"))\n",
    "conjugate = (a * a.conjugate()) ** (1/2)\n",
    "print(f\"The complex conjugate of {a} is {conjugate}.\")"
   ]
  },
  {
   "cell_type": "code",
   "execution_count": 2,
   "metadata": {},
   "outputs": [
    {
     "name": "stdin",
     "output_type": "stream",
     "text": [
      "Enter degrees Fahrenheit:  -40\n"
     ]
    },
    {
     "name": "stdout",
     "output_type": "stream",
     "text": [
      "-40.0 degrees Fahrenheit is -40.0 degrees Celsius.\n"
     ]
    }
   ],
   "source": [
    "f = float(input(\"Enter degrees Fahrenheit: \"))\n",
    "c = (f - 32) * (5 / 9)\n",
    "print(f\"{f} degrees Fahrenheit is {c} degrees Celsius.\")"
   ]
  },
  {
   "cell_type": "code",
   "execution_count": 3,
   "metadata": {},
   "outputs": [
    {
     "name": "stdin",
     "output_type": "stream",
     "text": [
      "Enter degrees Celsius:  -133\n"
     ]
    },
    {
     "name": "stdout",
     "output_type": "stream",
     "text": [
      "-133.0 degrees Celsius is -207.4 degrees Fahrenheit.\n"
     ]
    }
   ],
   "source": [
    "c = float(input(\"Enter degrees Celsius: \"))\n",
    "f = c * (9 / 5) + 32\n",
    "print(f\"{c} degrees Celsius is {f} degrees Fahrenheit.\")"
   ]
  },
  {
   "cell_type": "code",
   "execution_count": 4,
   "metadata": {},
   "outputs": [
    {
     "name": "stdin",
     "output_type": "stream",
     "text": [
      "Enter cylinder height:  1\n",
      "Enter cylinder radius:  1\n"
     ]
    },
    {
     "name": "stdout",
     "output_type": "stream",
     "text": [
      "The cylinder has surface area 12.566370614359172 and volume 3.141592653589793\n"
     ]
    }
   ],
   "source": [
    "radius = float(input(\"Enter cylinder height: \"))\n",
    "height = float(input(\"Enter cylinder radius: \"))\n",
    "\n",
    "from math import pi\n",
    "\n",
    "surface_area = 2 * pi * radius * (radius + height)\n",
    "volume = pi * radius**2 * height\n",
    "\n",
    "print(f\"The cylinder has surface area {surface_area} and volume {volume}\")"
   ]
  },
  {
   "cell_type": "code",
   "execution_count": 5,
   "metadata": {},
   "outputs": [
    {
     "name": "stdin",
     "output_type": "stream",
     "text": [
      "Enter subtotal:  100\n",
      "Enter gratuity rate:  .02\n"
     ]
    },
    {
     "name": "stdout",
     "output_type": "stream",
     "text": [
      "The tip on a subtotal $100.0 with gratuity rate 2.0% is $2.0.\n"
     ]
    }
   ],
   "source": [
    "subtotal = float(input(\"Enter subtotal: \"))\n",
    "gratuity_rate = float(input(\"Enter gratuity rate: \"))\n",
    "\n",
    "tip = int(gratuity_rate * subtotal * 100) / 100\n",
    "\n",
    "print(f\"The tip on a subtotal ${subtotal} with gratuity rate {gratuity_rate * 100}% is ${tip}.\")"
   ]
  },
  {
   "cell_type": "code",
   "execution_count": 12,
   "metadata": {},
   "outputs": [
    {
     "name": "stdin",
     "output_type": "stream",
     "text": [
      "Enter number of sides:  3\n",
      "Enter side length:  2\n"
     ]
    },
    {
     "name": "stdout",
     "output_type": "stream",
     "text": [
      "The perimeter of the 3-gon with side length 2 is 6 and the area is 0.8660254037844389.\n"
     ]
    }
   ],
   "source": [
    "num_sides = int(input(\"Enter number of sides: \"))\n",
    "side_length = int(input(\"Enter side length: \"))\n",
    "\n",
    "from math import tan, pi\n",
    "perimeter = num_sides * side_length\n",
    "apothem = side_length / (2 * tan(pi/num_sides))\n",
    "area = num_sides * apothem / 2\n",
    "\n",
    "print(f\"The perimeter of the {num_sides}-gon with side length {side_length} is {perimeter} and the area is {area}.\")"
   ]
  },
  {
   "cell_type": "code",
   "execution_count": 13,
   "metadata": {},
   "outputs": [
    {
     "name": "stdin",
     "output_type": "stream",
     "text": [
      "Enter number 1:  4\n",
      "Enter number 2:  7\n"
     ]
    },
    {
     "name": "stdout",
     "output_type": "stream",
     "text": [
      "7 divided by 4 is 1 remainder 3\n"
     ]
    }
   ],
   "source": [
    "a = int(input(\"Enter number 1: \"))\n",
    "b = int(input(\"Enter number 2: \"))\n",
    "\n",
    "bigger = max(a,b)\n",
    "smaller = min(a,b)\n",
    "\n",
    "print(f\"{bigger} divided by {smaller} is {bigger // smaller} remainder {bigger % smaller}\")"
   ]
  },
  {
   "cell_type": "markdown",
   "metadata": {},
   "source": [
    "### 2"
   ]
  },
  {
   "cell_type": "code",
   "execution_count": 34,
   "metadata": {},
   "outputs": [
    {
     "name": "stdout",
     "output_type": "stream",
     "text": [
      "Oh, the Places You'll Go!\n",
      "by Dr. Seuss\n",
      "\n",
      "Congratulations!\n",
      "Today is your day.\n",
      "You're off to Great Places!\n",
      "You're off and away!\n",
      "\n",
      "You have brains in your head.\n",
      "You have feet in your shoes.\n",
      "You can steer yourself\n",
      "any direction you choose.\n",
      "You're on your own. And you know what you know.\n",
      "And YOU are the guy who'll decide where to go.\n",
      "\n",
      "You'll look up and down streets. Look 'em over with care.\n",
      "About some you will say, \"I don't choose to go there.\"\n",
      "With your head full of brains and your shoes full of feet,\n",
      "you're too smart to go down any not-so-good street.\n",
      "\n",
      "And you may not find any\n",
      "you'll want to go down.\n",
      "In that case, of course,\n",
      "you'll head straight out of town.\n",
      "\n",
      "It's opener there\n",
      "in the wide open air.\n",
      "\n",
      "Out there things can happen\n",
      "and frequently do\n",
      "to people as brainy\n",
      "and footsy as you.\n",
      "\n",
      "And then things start to happen,\n",
      "don't worry. Don't stew.\n",
      "Just go right along.\n",
      "You'll start happening too.\n",
      "\n",
      "OH!\n",
      "THE PLACES YOU'LL GO!\n",
      "\n",
      "You'll be on y our way up!\n",
      "You'll be seeing great sights!\n",
      "You'll join the high fliers\n",
      "who soar to high heights.\n",
      "\n",
      "You won't lag behind, because you'll have the speed.\n",
      "You'll pass the whole gang and you'll soon take the lead.\n",
      "Wherever you fly, you'll be best of the best.\n",
      "Wherever you go, you will top all the rest.\n",
      "\n",
      "Except when you don't.\n",
      "Because, sometimes, you won't.\n",
      "\n",
      "I'm sorry to say so\n",
      "but, sadly, it's true\n",
      "that Bang-ups\n",
      "and Hang-ups\n",
      "can happen to you.\n",
      "\n",
      "You can get all hung up\n",
      "in a prickle-ly perch.\n",
      "And your gang will fly on.\n",
      "You'll be left in a Lurch.\n",
      "\n",
      "You'll come down from the Lurch\n",
      "with an unpleasant bump.\n",
      "And the chances are, then,\n",
      "that you'll be in a Slump.\n",
      "\n",
      "And when you're in a Slump,\n",
      "you're not in for much fun.\n",
      "Un-slumping yourself\n",
      "is not easily done.\n",
      "\n",
      "You will come to a place where the streets are not marked.\n",
      "Some windows are lighted. But mostly they're darked.\n",
      "A place you could sprain both your elbow and chin!\n",
      "Do you dare to stay out? Do you dare to go in?\n",
      "How much can you lose? How much can you win?\n",
      "\n",
      "And IF you go in, should you turn left or right...\n",
      "or right-and-three-quarters? Or, maybe, not quite?\n",
      "Or go around back and sneak in from behind?\n",
      "Simple it's not, I'm afraid you will find,\n",
      "for a mind-maker-upper to make up his mind.\n",
      "\n",
      "You can get so confused\n",
      "that you'll start in to race\n",
      "down long wiggled roads at a break-necking pace\n",
      "and grind on for miles cross weirdish wild space,\n",
      "headed, I fear, toward a most useless place.\n",
      "The Waiting Place...\n",
      "\n",
      "...for people just waiting.\n",
      "Waiting for a train to go\n",
      "or a bus to come, or a plane to go\n",
      "or the mail to come, or the rain to go\n",
      "or the phone to ring, or the snow to snow\n",
      "or the waiting around for a Yes or No\n",
      "or waiting for their hair to grow.\n",
      "Everyone is just waiting.\n",
      "\n",
      "Waiting for the fish to bite\n",
      "or waiting for the wind to fly a kite\n",
      "or waiting around for Friday night\n",
      "or waiting, perhaps, for their Uncle Jake\n",
      "or a pot to boil, or a Better Break\n",
      "or a string of pearls, or a pair of pants\n",
      "or a wig with curls, or Another Chance.\n",
      "Everyone is just waiting.\n",
      "\n",
      "NO!\n",
      "That's not for you!\n",
      "\n",
      "Somehow you'll escape\n",
      "all that waiting and staying\n",
      "You'll find the bright places\n",
      "where Boom Bands are playing.\n",
      "\n",
      "With banner flip-flapping,\n",
      "once more you'll ride high!\n",
      "Ready for anything under the sky.\n",
      "Ready because you're that kind of a guy!\n",
      "\n",
      "Oh, the places you'll go! There is fun to be done!\n",
      "There are points to be scored. There are games to be won.\n",
      "And the magical things you can do with that ball\n",
      "will make you the winning-est winner of all.\n",
      "Fame! You'll be as famous as famous can be,\n",
      "with the whole wide world watching you win on TV.\n",
      "\n",
      "Except when they don't\n",
      "Because, sometimes they won't.\n",
      "\n",
      "I'm afraid that some times\n",
      "you'll play lonely games too.\n",
      "Games you can't win\n",
      "'cause you'll play against you.\n",
      "\n",
      "All Alone!\n",
      "Whether you like it or not,\n",
      "Alone will be something\n",
      "you'll be quite a lot.\n",
      "\n",
      "And when you're alone, there's a very good chance\n",
      "you'll meet things that scare you right out of your pants.\n",
      "There are some, down the road between hither and yon,\n",
      "that can scare you so much you won't want to go on.\n",
      "\n",
      "But on you will go\n",
      "though the weather be foul.\n",
      "On you will go\n",
      "though your enemies prowl.\n",
      "On you will go\n",
      "though the Hakken-Kraks howl.\n",
      "Onward up many\n",
      "a frightening creek,\n",
      "though your arms may get sore\n",
      "and your sneakers may leak.\n",
      "\n",
      "On and on you will hike,\n",
      "And I know you'll hike far\n",
      "and face up to your problems\n",
      "whatever they are.\n",
      "\n",
      "You'll get mixed up, of course,\n",
      "as you already know.\n",
      "You'll get mixed up\n",
      "with many strange birds as you go.\n",
      "So be sure when you step.\n",
      "Step with care and great tact\n",
      "and remember that Life's\n",
      "a Great Balancing Act.\n",
      "Just never foget to be dexterous and deft.\n",
      "And never mix up your right foot with your left.\n",
      "\n",
      "And will you succeed?\n",
      "Yes! You will, indeed!\n",
      "(98 and 3/4 percent guaranteed.)\n",
      "\n",
      "KID, YOU'LL MOVE MOUNTAINS!\n",
      "\n",
      "So...\n",
      "be your name Buxbaum or Bixby or Bray\n",
      "or Mordecai Ali Van Allen O'Shea,\n",
      "You're off the Great Places!\n",
      "Today is your day!\n",
      "Your mountain is waiting.\n",
      "So...get on your way!\n",
      "\n",
      "'Oh' appears 3 times\n",
      "'the' appears 51 times\n",
      "'places' appears 6 times\n",
      "'you'll' appears  30  times\n",
      "'go' appears 22 times\n"
     ]
    }
   ],
   "source": [
    "with open(\"Oh, the Places You'll Go!.txt\", \"r+\") as f:\n",
    "    content = f.read()\n",
    "    print(content)\n",
    "    lowered_content = content.lower()\n",
    "    print(f\"'Oh' appears {lowered_content.count('oh')} times\")\n",
    "    print(f\"'the' appears {lowered_content.count('the')} times\")\n",
    "    print(f\"'places' appears {lowered_content.count('places')} times\")\n",
    "    print(\"'you'll' appears \", lowered_content.count(\"you'll\"), \" times\")\n",
    "    print(f\"'go' appears {lowered_content.count('go')} times\")\n",
    "\n",
    "with open(\"Oh, the Places You'll Go!.txt\", \"a\") as f:\n",
    "    f.write(\"line 1\\n\")\n",
    "    f.write(\"line 2\\n\")\n",
    "    f.write(\"line 3\")"
   ]
  },
  {
   "cell_type": "code",
   "execution_count": null,
   "metadata": {},
   "outputs": [],
   "source": []
  }
 ],
 "metadata": {
  "kernelspec": {
   "display_name": "Python 3",
   "language": "python",
   "name": "python3"
  },
  "language_info": {
   "codemirror_mode": {
    "name": "ipython",
    "version": 3
   },
   "file_extension": ".py",
   "mimetype": "text/x-python",
   "name": "python",
   "nbconvert_exporter": "python",
   "pygments_lexer": "ipython3",
   "version": "3.7.7"
  }
 },
 "nbformat": 4,
 "nbformat_minor": 4
}
