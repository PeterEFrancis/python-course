{
 "cells": [
  {
   "cell_type": "markdown",
   "metadata": {},
   "source": [
    "# Solutions\n",
    "### Chapter 4: conditionals"
   ]
  },
  {
   "cell_type": "code",
   "execution_count": 1,
   "metadata": {},
   "outputs": [
    {
     "name": "stdin",
     "output_type": "stream",
     "text": [
      "day:  25\n",
      "month:  May\n",
      "year:  2020\n"
     ]
    },
    {
     "name": "stdout",
     "output_type": "stream",
     "text": [
      "\n",
      "The day of the week on May 25, 2020 is Monday\n"
     ]
    }
   ],
   "source": [
    "date = int(input(\"day: \"))\n",
    "month = input(\"month: \").capitalize()\n",
    "year = int(input(\"year: \"))\n",
    "\n",
    "lastTwo = int(str(year)[2:])\n",
    "\n",
    "if month in \"AprilJuly\":\n",
    "    monthNum = 0\n",
    "elif month in \"JanuaryOctober\":\n",
    "    monthNum = 1\n",
    "elif month == \"May\":\n",
    "    monthNum = 2\n",
    "elif month == \"August\":\n",
    "    monthNum = 3\n",
    "elif month in \"FebruaryMarchNovember\":\n",
    "    monthNum = 4\n",
    "elif month == \"June\":\n",
    "    monthNum = 5\n",
    "else:\n",
    "    monthNum = 6\n",
    "    \n",
    "if month == \"January\" or month == \"February\":\n",
    "#     if year is a leap year\n",
    "    if (lastTwo % 4 == 0 and lastTwo != 0) or (lastTwo == 0 and year % 400 == 0):\n",
    "        monthNum = monthNum - 1\n",
    "\n",
    "centuryOffset = 2 if year < 1900 else -1 if year > 1999 else 0         \n",
    "        \n",
    "dayNum = ((lastTwo // 4) + lastTwo + monthNum + date + centuryOffset) % 7\n",
    "day = \"Saturday Sunday   Monday   Tuesday  WednesdayThursday Friday   \"[dayNum * 9:dayNum * 9 + 9].strip()\n",
    "\n",
    "print(f\"\\nThe day of the week on {month} {date}, {year} is {day}.\")"
   ]
  },
  {
   "cell_type": "code",
   "execution_count": null,
   "metadata": {},
   "outputs": [],
   "source": []
  }
 ],
 "metadata": {
  "kernelspec": {
   "display_name": "Python 3",
   "language": "python",
   "name": "python3"
  },
  "language_info": {
   "codemirror_mode": {
    "name": "ipython",
    "version": 3
   },
   "file_extension": ".py",
   "mimetype": "text/x-python",
   "name": "python",
   "nbconvert_exporter": "python",
   "pygments_lexer": "ipython3",
   "version": "3.7.7"
  }
 },
 "nbformat": 4,
 "nbformat_minor": 4
}
