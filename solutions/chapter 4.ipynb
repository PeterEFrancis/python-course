{
 "cells": [
  {
   "cell_type": "markdown",
   "metadata": {},
   "source": [
    "# Solutions\n",
    "### Chapter 4: conditionals"
   ]
  },
  {
   "cell_type": "markdown",
   "metadata": {},
   "source": [
    "### 1"
   ]
  },
  {
   "cell_type": "code",
   "execution_count": 1,
   "metadata": {},
   "outputs": [
    {
     "name": "stdout",
     "output_type": "stream",
     "text": [
      "foo\n"
     ]
    }
   ],
   "source": [
    "flag = True\n",
    "if \"ab\" in \"abcd\":\n",
    "    print(\"foo\")\n",
    "    flag = False\n",
    "if flag:\n",
    "    print(\"bar\")"
   ]
  },
  {
   "cell_type": "markdown",
   "metadata": {},
   "source": [
    "### 2"
   ]
  },
  {
   "cell_type": "code",
   "execution_count": 13,
   "metadata": {},
   "outputs": [
    {
     "name": "stdout",
     "output_type": "stream",
     "text": [
      "enter a height in feet and inches\n"
     ]
    },
    {
     "name": "stdin",
     "output_type": "stream",
     "text": [
      "feet:  1.3\n",
      "inches:  2.2\n"
     ]
    },
    {
     "name": "stdout",
     "output_type": "stream",
     "text": [
      "invalid input\n"
     ]
    }
   ],
   "source": [
    "print(\"enter a height in feet and inches\")\n",
    "\n",
    "feet = float(input(\"feet: \"))\n",
    "inches = float(input(\"inches: \"))\n",
    "\n",
    "if feet != int(feet) or inches != int(inches):\n",
    "    print(\"invalid input\")\n",
    "else:\n",
    "    total = feet * 12 + inches\n",
    "    if total < 45 and total >= 60:\n",
    "        print(\"you can ride\")\n",
    "    else:\n",
    "        print(\"you can't ride\")"
   ]
  },
  {
   "cell_type": "markdown",
   "metadata": {},
   "source": [
    "### 3"
   ]
  },
  {
   "cell_type": "code",
   "execution_count": 4,
   "metadata": {},
   "outputs": [
    {
     "name": "stdin",
     "output_type": "stream",
     "text": [
      "enter a number:  -3.6\n"
     ]
    },
    {
     "name": "stdout",
     "output_type": "stream",
     "text": [
      "a = -3.6 is negative\n"
     ]
    }
   ],
   "source": [
    "a = float(input(\"enter a number: \"))\n",
    "print(f\"a = {a} is \" + (\"positive\" if a > 0 else \"negative\" if a < 0 else \"zero\"))"
   ]
  },
  {
   "cell_type": "markdown",
   "metadata": {},
   "source": [
    "### 4"
   ]
  },
  {
   "cell_type": "code",
   "execution_count": 20,
   "metadata": {},
   "outputs": [
    {
     "name": "stdin",
     "output_type": "stream",
     "text": [
      "Enter a number:  abc\n"
     ]
    },
    {
     "name": "stdout",
     "output_type": "stream",
     "text": [
      "not a number\n"
     ]
    }
   ],
   "source": [
    "num = input(\"Enter a number: \")\n",
    "if not num.replace(\".\",\"\").isnumeric():\n",
    "    print(\"not a number\")\n",
    "else:\n",
    "    fnum = float(num)\n",
    "    if fnum != int(fnum):\n",
    "        print(\"not an integer\")\n",
    "    else:\n",
    "        inum = int(fnum)\n",
    "        if inum % 2 == 0:\n",
    "            print(\"even\")\n",
    "        else:\n",
    "            print(\"odd\")"
   ]
  },
  {
   "cell_type": "markdown",
   "metadata": {},
   "source": [
    "### 5"
   ]
  },
  {
   "cell_type": "code",
   "execution_count": 26,
   "metadata": {},
   "outputs": [
    {
     "name": "stdin",
     "output_type": "stream",
     "text": [
      "Enter a score:  95\n"
     ]
    },
    {
     "name": "stdout",
     "output_type": "stream",
     "text": [
      "A\n"
     ]
    }
   ],
   "source": [
    "score = float(input(\"Enter a score: \"))\n",
    "if score > 90:\n",
    "    print(\"A\")\n",
    "elif score > 80:\n",
    "    print(\"B\")\n",
    "elif score > 70:\n",
    "    print(\"C\")\n",
    "elif score > 60:\n",
    "    print(\"D\")\n",
    "else:\n",
    "    print(\"F\")"
   ]
  },
  {
   "cell_type": "markdown",
   "metadata": {},
   "source": [
    "### 6"
   ]
  },
  {
   "cell_type": "code",
   "execution_count": 36,
   "metadata": {},
   "outputs": [
    {
     "name": "stdin",
     "output_type": "stream",
     "text": [
      "Enter A's play:  paper\n",
      "Enter B's play:  Paper\n"
     ]
    },
    {
     "name": "stdout",
     "output_type": "stream",
     "text": [
      "draw\n"
     ]
    }
   ],
   "source": [
    "A = input(\"Enter A's play: \").lower()\n",
    "B = input(\"Enter B's play: \").lower()\n",
    "\n",
    "if A == B:\n",
    "    print(\"draw\")\n",
    "elif A == \"rock\":\n",
    "    if B == \"scissors\":\n",
    "        print(\"A wins\")\n",
    "    else:\n",
    "        print(\"B wins\")\n",
    "elif A == \"paper\":\n",
    "    if B == \"rock\":\n",
    "        print(\"A wins\")\n",
    "    else:\n",
    "        print(\"B wins\")\n",
    "else:\n",
    "    if B == \"paper\":\n",
    "        print(\"A wins\")\n",
    "    else:\n",
    "        print(\"B wins\")"
   ]
  },
  {
   "cell_type": "code",
   "execution_count": 39,
   "metadata": {},
   "outputs": [
    {
     "name": "stdin",
     "output_type": "stream",
     "text": [
      "Enter A's play:  paper\n",
      "Enter B's play:  Paper\n"
     ]
    },
    {
     "name": "stdout",
     "output_type": "stream",
     "text": [
      "draw\n"
     ]
    }
   ],
   "source": [
    "A = input(\"Enter A's play: \").lower()\n",
    "B = input(\"Enter B's play: \").lower()\n",
    "\n",
    "if A == B:\n",
    "    print(\"draw\")\n",
    "elif (A == \"rock\" and B == \"scissors\") or (A == \"paper\" and B == \"rock\") or (A == \"scissors\" and B == \"paper\"):\n",
    "    print(\"A wins\")\n",
    "else:\n",
    "    print(\"B wins\")"
   ]
  },
  {
   "cell_type": "markdown",
   "metadata": {},
   "source": [
    "### 7"
   ]
  },
  {
   "cell_type": "code",
   "execution_count": 23,
   "metadata": {},
   "outputs": [
    {
     "name": "stdin",
     "output_type": "stream",
     "text": [
      "Enter weight in pounds:  127.7\n",
      "Enter height in inches:  60\n"
     ]
    },
    {
     "name": "stdout",
     "output_type": "stream",
     "text": [
      "A BMI of 24.9 is Normal Weight\n"
     ]
    }
   ],
   "source": [
    "pounds = float(input(\"Enter weight in pounds: \"))\n",
    "inches = float(input(\"Enter height in inches: \"))\n",
    "\n",
    "BMI = (pounds * 703) / (inches)**2\n",
    "BMI = round(BMI * 10) / 10\n",
    "\n",
    "if BMI < 18.5:\n",
    "    print(f\"A BMI of {BMI} is Underweight\")\n",
    "elif BMI <= 24.9:\n",
    "    print(f\"A BMI of {BMI} is Normal Weight\")\n",
    "elif BMI <= 29.9:\n",
    "    print(f\"A BMI of {BMI} is Overweight\")\n",
    "else:\n",
    "    print(f\"A BMI of {BMI} is Obese\")"
   ]
  },
  {
   "cell_type": "markdown",
   "metadata": {},
   "source": [
    "### 8"
   ]
  },
  {
   "cell_type": "code",
   "execution_count": 27,
   "metadata": {},
   "outputs": [
    {
     "name": "stdin",
     "output_type": "stream",
     "text": [
      "Enter a year:  1800\n"
     ]
    },
    {
     "name": "stdout",
     "output_type": "stream",
     "text": [
      "not a leap year\n"
     ]
    }
   ],
   "source": [
    "year = int(input(\"Enter a year: \"))\n",
    "if (year % 4 == 0 and year % 100 != 0) or (year % 400 == 0):\n",
    "    print(\"leap year\")\n",
    "else:\n",
    "    print(\"not a leap year\")"
   ]
  },
  {
   "cell_type": "markdown",
   "metadata": {},
   "source": [
    "### 9"
   ]
  },
  {
   "cell_type": "code",
   "execution_count": 5,
   "metadata": {},
   "outputs": [
    {
     "name": "stdin",
     "output_type": "stream",
     "text": [
      "day of the month:  30\n",
      "month:  January\n",
      "year:  2059\n"
     ]
    },
    {
     "name": "stdout",
     "output_type": "stream",
     "text": [
      "\n",
      "The day of the week on January 30, 2059 is Thursday.\n"
     ]
    }
   ],
   "source": [
    "day_of_the_month = int(input(\"day of the month: \"))\n",
    "month = input(\"month: \").lower()\n",
    "year = int(input(\"year: \"))\n",
    "\n",
    "if month == \"april\" or month == \"july\":\n",
    "    monthCode = 0\n",
    "elif month == \"january\" or month == \"october\":\n",
    "    monthCode = 1\n",
    "elif month == \"may\":\n",
    "    monthCode = 2\n",
    "elif month == \"august\":\n",
    "    monthCode = 3\n",
    "elif month == \"february\" or month == \"march\" or month == \"november\":\n",
    "    monthCode = 4\n",
    "elif month == \"june\":\n",
    "    monthCode = 5\n",
    "else:\n",
    "    monthCode = 6\n",
    "\n",
    "\n",
    "if month == \"january\" or month == \"february\":\n",
    "    # if year is a leap year\n",
    "    if (year % 4 == 0 and year % 100 != 0) or (year % 400 == 0):\n",
    "        monthCode = monthCode - 1\n",
    "\n",
    "        \n",
    "centuryOffset = 0\n",
    "if year < 1900:\n",
    "    centureyOffset = 2\n",
    "if year > 1999:\n",
    "    centuryOffset = -1         \n",
    "        \n",
    "    \n",
    "lastTwo = int(str(year)[2:])\n",
    "\n",
    "dayCode = ((lastTwo // 4) + lastTwo + monthCode + day_of_the_month + centuryOffset) % 7\n",
    "day = \"Saturday Sunday   Monday   Tuesday  WednesdayThursday Friday   \"[dayCode * 9:dayCode * 9 + 9].strip()\n",
    "\n",
    "print(f\"\\nThe day of the week on {month.capitalize()} {day_of_the_month}, {year} is {day}.\")"
   ]
  },
  {
   "cell_type": "code",
   "execution_count": null,
   "metadata": {},
   "outputs": [],
   "source": []
  }
 ],
 "metadata": {
  "kernelspec": {
   "display_name": "Python 3",
   "language": "python",
   "name": "python3"
  },
  "language_info": {
   "codemirror_mode": {
    "name": "ipython",
    "version": 3
   },
   "file_extension": ".py",
   "mimetype": "text/x-python",
   "name": "python",
   "nbconvert_exporter": "python",
   "pygments_lexer": "ipython3",
   "version": "3.7.7"
  }
 },
 "nbformat": 4,
 "nbformat_minor": 4
}
