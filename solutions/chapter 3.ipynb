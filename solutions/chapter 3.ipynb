{
 "cells": [
  {
   "cell_type": "markdown",
   "metadata": {},
   "source": [
    "# Solutions\n",
    "### Chapter 3: strings"
   ]
  },
  {
   "cell_type": "markdown",
   "metadata": {},
   "source": [
    "### 1"
   ]
  },
  {
   "cell_type": "code",
   "execution_count": 1,
   "metadata": {},
   "outputs": [
    {
     "name": "stdout",
     "output_type": "stream",
     "text": [
      "Peter\n",
      "2021\n",
      "HarringtonPark\n",
      "I love Python!\n"
     ]
    }
   ],
   "source": [
    "print(\"Peter\\n2021\\nHarringtonPark\\nI love Python!\")"
   ]
  },
  {
   "cell_type": "markdown",
   "metadata": {},
   "source": [
    "### 2"
   ]
  },
  {
   "cell_type": "code",
   "execution_count": 2,
   "metadata": {},
   "outputs": [
    {
     "name": "stdout",
     "output_type": "stream",
     "text": [
      "This is how you print a double-quote (\"), a backslash (\\), and a lowercase o with stroke (ø).\n",
      "A tab and a newline are printed using a \"\\t\" and \"\\n\", respectively.\n"
     ]
    }
   ],
   "source": [
    "print('This is how you print a double-quote (\"), a backslash (\\), and a lowercase o with stroke (ø).')\n",
    "print('A tab and a newline are printed using a \"\\\\t\" and \"\\\\n\", respectively.')"
   ]
  },
  {
   "cell_type": "markdown",
   "metadata": {},
   "source": [
    "> Note that one of the useful features of python's ability to use both \" and ' as a deliminators for a string, is that you dont have to use backslashes to escape one kind of quotation mark."
   ]
  },
  {
   "cell_type": "code",
   "execution_count": 3,
   "metadata": {},
   "outputs": [
    {
     "name": "stdout",
     "output_type": "stream",
     "text": [
      "This is how you print a double-quote (\"), a backslash (\\), and a lowercase o with stroke (ø).\n",
      "A tab and a newline are printed using a \"\\t\" and \"\\n\", respectively.\n"
     ]
    }
   ],
   "source": [
    "print('This is how you print a double-quote (\\\"), a backslash (\\), and a lowercase o with stroke (\\u00F8).')\n",
    "print('A tab and a newline are printed using a \\\"\\\\t\\\" and \\\"\\\\n\\\", respectively.')"
   ]
  },
  {
   "cell_type": "code",
   "execution_count": 3,
   "metadata": {},
   "outputs": [
    {
     "name": "stdout",
     "output_type": "stream",
     "text": [
      "This is how you print a double-quote (\"), a backslash (\\), and a lowercase o with stroke (ø).\n",
      "A tab and a newline are printed using a \"\\t\" and \"\\n\", respectively.\n"
     ]
    }
   ],
   "source": [
    "print(\"\"\"This is how you print a double-quote (\"), a backslash (\\), and a lowercase o with stroke (ø).\n",
    "A tab and a newline are printed using a \"\\\\t\" and \"\\\\n\", respectively.\"\"\")"
   ]
  },
  {
   "cell_type": "markdown",
   "metadata": {},
   "source": [
    "### 3"
   ]
  },
  {
   "cell_type": "code",
   "execution_count": 4,
   "metadata": {},
   "outputs": [
    {
     "data": {
      "text/plain": [
       "'r'"
      ]
     },
     "execution_count": 4,
     "metadata": {},
     "output_type": "execute_result"
    }
   ],
   "source": [
    "(\"super\" + \"-duper\" * 10 + \"-fun\")[34]"
   ]
  },
  {
   "cell_type": "code",
   "execution_count": 5,
   "metadata": {},
   "outputs": [
    {
     "data": {
      "text/plain": [
       "'r'"
      ]
     },
     "execution_count": 5,
     "metadata": {},
     "output_type": "execute_result"
    }
   ],
   "source": [
    "(\"super\" + \"-duper\" * 10 + \"-fun\")[-35]"
   ]
  },
  {
   "cell_type": "markdown",
   "metadata": {},
   "source": [
    "### 4"
   ]
  },
  {
   "cell_type": "code",
   "execution_count": 6,
   "metadata": {},
   "outputs": [
    {
     "name": "stdout",
     "output_type": "stream",
     "text": [
      "length of newline character:  1\n"
     ]
    }
   ],
   "source": [
    "print(\"length of newline character: \", len(\"\\n\"))"
   ]
  },
  {
   "cell_type": "markdown",
   "metadata": {},
   "source": [
    "### 5"
   ]
  },
  {
   "cell_type": "code",
   "execution_count": 7,
   "metadata": {},
   "outputs": [
    {
     "name": "stdout",
     "output_type": "stream",
     "text": [
      "bdfhjln\n",
      "hfd\n",
      "yvspmj\n",
      "xr\n"
     ]
    }
   ],
   "source": [
    "alph = \"abcdefghijklmnopqrstuvwxyz\"\n",
    "\n",
    "print(alph[1:14:2])\n",
    "print(alph[7:2:-2])\n",
    "print(alph[24:8:-3])\n",
    "print(alph[23:12:-6])"
   ]
  },
  {
   "cell_type": "markdown",
   "metadata": {},
   "source": [
    "### 6"
   ]
  },
  {
   "cell_type": "code",
   "execution_count": 2,
   "metadata": {},
   "outputs": [
    {
     "name": "stdout",
     "output_type": "stream",
     "text": [
      "Sample string 123!\n",
      "################Sample string 123!################\n",
      "1\n",
      "True\n",
      "7\n",
      "1\n"
     ]
    }
   ],
   "source": [
    "a = \"Sample string 123!\"\n",
    "\n",
    "print(a.capitalize())\n",
    "print(a.center(50, \"#\"))\n",
    "print(a.count(\"s\"))\n",
    "print(a.endswith(\"123!\"))\n",
    "print(a.find(\"s\"))\n",
    "print(a.index(\"a\"))"
   ]
  },
  {
   "cell_type": "markdown",
   "metadata": {},
   "source": [
    "### 7"
   ]
  },
  {
   "cell_type": "code",
   "execution_count": 9,
   "metadata": {},
   "outputs": [
    {
     "name": "stdout",
     "output_type": "stream",
     "text": [
      "franpe01\n"
     ]
    }
   ],
   "source": [
    "firstName = \"Peter\"\n",
    "lastName = \"Francis\"\n",
    "\n",
    "print(lastName[:4].lower() + firstName[:2].lower() + \"01\")"
   ]
  },
  {
   "cell_type": "code",
   "execution_count": null,
   "metadata": {},
   "outputs": [],
   "source": []
  }
 ],
 "metadata": {
  "kernelspec": {
   "display_name": "Python 3",
   "language": "python",
   "name": "python3"
  },
  "language_info": {
   "codemirror_mode": {
    "name": "ipython",
    "version": 3
   },
   "file_extension": ".py",
   "mimetype": "text/x-python",
   "name": "python",
   "nbconvert_exporter": "python",
   "pygments_lexer": "ipython3",
   "version": "3.7.7"
  }
 },
 "nbformat": 4,
 "nbformat_minor": 4
}
