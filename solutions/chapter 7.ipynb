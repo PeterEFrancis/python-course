{
 "cells": [
  {
   "cell_type": "markdown",
   "metadata": {},
   "source": [
    "# Solutions\n",
    "\n",
    "### Chapter 7: Lists and Tuples"
   ]
  },
  {
   "cell_type": "markdown",
   "metadata": {},
   "source": [
    "### 1"
   ]
  },
  {
   "cell_type": "code",
   "execution_count": 6,
   "metadata": {},
   "outputs": [
    {
     "name": "stdout",
     "output_type": "stream",
     "text": [
      "You will be player 2\n",
      "Enter nothing to roll; enter anything to hold.\n",
      "\n",
      "Player 1 score: 0\n",
      "Player 2 score: 0\n",
      "It is player 1's turn\n",
      "\tRoll: 4\n",
      "\tRoll: 1\n",
      "Turn total: 0\n",
      "New score: 0\n",
      "Player 1 score: 0\n",
      "Player 2 score: 0\n",
      "It is player 2's turn\n",
      "\tRoll: 3\n",
      "Turn total: 3\n"
     ]
    },
    {
     "name": "stdin",
     "output_type": "stream",
     "text": [
      "Roll/Hold? \n"
     ]
    },
    {
     "name": "stdout",
     "output_type": "stream",
     "text": [
      "\tRoll: 5\n",
      "Turn total: 8\n"
     ]
    },
    {
     "name": "stdin",
     "output_type": "stream",
     "text": [
      "Roll/Hold? \n"
     ]
    },
    {
     "name": "stdout",
     "output_type": "stream",
     "text": [
      "\tRoll: 4\n",
      "Turn total: 12\n"
     ]
    },
    {
     "name": "stdin",
     "output_type": "stream",
     "text": [
      "Roll/Hold? \n"
     ]
    },
    {
     "name": "stdout",
     "output_type": "stream",
     "text": [
      "\tRoll: 4\n",
      "Turn total: 16\n"
     ]
    },
    {
     "name": "stdin",
     "output_type": "stream",
     "text": [
      "Roll/Hold? \n"
     ]
    },
    {
     "name": "stdout",
     "output_type": "stream",
     "text": [
      "\tRoll: 3\n",
      "Turn total: 19\n"
     ]
    },
    {
     "name": "stdin",
     "output_type": "stream",
     "text": [
      "Roll/Hold? \n"
     ]
    },
    {
     "name": "stdout",
     "output_type": "stream",
     "text": [
      "\tRoll: 4\n",
      "Turn total: 23\n"
     ]
    },
    {
     "name": "stdin",
     "output_type": "stream",
     "text": [
      "Roll/Hold? \n"
     ]
    },
    {
     "name": "stdout",
     "output_type": "stream",
     "text": [
      "\tRoll: 3\n",
      "Turn total: 26\n"
     ]
    },
    {
     "name": "stdin",
     "output_type": "stream",
     "text": [
      "Roll/Hold? \n"
     ]
    },
    {
     "name": "stdout",
     "output_type": "stream",
     "text": [
      "\tRoll: 5\n",
      "Turn total: 31\n"
     ]
    },
    {
     "name": "stdin",
     "output_type": "stream",
     "text": [
      "Roll/Hold? \n"
     ]
    },
    {
     "name": "stdout",
     "output_type": "stream",
     "text": [
      "\tRoll: 2\n",
      "Turn total: 33\n"
     ]
    },
    {
     "name": "stdin",
     "output_type": "stream",
     "text": [
      "Roll/Hold? \n"
     ]
    },
    {
     "name": "stdout",
     "output_type": "stream",
     "text": [
      "\tRoll: 5\n",
      "Turn total: 38\n"
     ]
    },
    {
     "name": "stdin",
     "output_type": "stream",
     "text": [
      "Roll/Hold? \n"
     ]
    },
    {
     "name": "stdout",
     "output_type": "stream",
     "text": [
      "\tRoll: 2\n",
      "Turn total: 40\n"
     ]
    },
    {
     "name": "stdin",
     "output_type": "stream",
     "text": [
      "Roll/Hold? \n"
     ]
    },
    {
     "name": "stdout",
     "output_type": "stream",
     "text": [
      "\tRoll: 3\n",
      "Turn total: 43\n"
     ]
    },
    {
     "name": "stdin",
     "output_type": "stream",
     "text": [
      "Roll/Hold? \n"
     ]
    },
    {
     "name": "stdout",
     "output_type": "stream",
     "text": [
      "\tRoll: 2\n",
      "Turn total: 45\n"
     ]
    },
    {
     "name": "stdin",
     "output_type": "stream",
     "text": [
      "Roll/Hold? p\n"
     ]
    },
    {
     "name": "stdout",
     "output_type": "stream",
     "text": [
      "Turn total: 45\n",
      "New score: 45\n",
      "Player 1 score: 0\n",
      "Player 2 score: 45\n",
      "It is player 1's turn\n",
      "\tRoll: 1\n",
      "Turn total: 0\n",
      "New score: 0\n",
      "Player 1 score: 0\n",
      "Player 2 score: 45\n",
      "It is player 2's turn\n",
      "\tRoll: 5\n",
      "Turn total: 5\n"
     ]
    },
    {
     "name": "stdin",
     "output_type": "stream",
     "text": [
      "Roll/Hold? \n"
     ]
    },
    {
     "name": "stdout",
     "output_type": "stream",
     "text": [
      "\tRoll: 3\n",
      "Turn total: 8\n"
     ]
    },
    {
     "name": "stdin",
     "output_type": "stream",
     "text": [
      "Roll/Hold? \n"
     ]
    },
    {
     "name": "stdout",
     "output_type": "stream",
     "text": [
      "\tRoll: 5\n",
      "Turn total: 13\n"
     ]
    },
    {
     "name": "stdin",
     "output_type": "stream",
     "text": [
      "Roll/Hold? \n"
     ]
    },
    {
     "name": "stdout",
     "output_type": "stream",
     "text": [
      "\tRoll: 6\n",
      "Turn total: 19\n"
     ]
    },
    {
     "name": "stdin",
     "output_type": "stream",
     "text": [
      "Roll/Hold? p\n"
     ]
    },
    {
     "name": "stdout",
     "output_type": "stream",
     "text": [
      "Turn total: 19\n",
      "New score: 64\n",
      "Player 1 score: 0\n",
      "Player 2 score: 64\n",
      "It is player 1's turn\n",
      "\tRoll: 5\n",
      "\tRoll: 2\n",
      "\tRoll: 3\n",
      "\tRoll: 1\n",
      "Turn total: 0\n",
      "New score: 0\n",
      "Player 1 score: 0\n",
      "Player 2 score: 64\n",
      "It is player 2's turn\n",
      "\tRoll: 6\n",
      "Turn total: 6\n"
     ]
    },
    {
     "name": "stdin",
     "output_type": "stream",
     "text": [
      "Roll/Hold? \n"
     ]
    },
    {
     "name": "stdout",
     "output_type": "stream",
     "text": [
      "\tRoll: 1\n",
      "Turn total: 0\n",
      "New score: 64\n",
      "Player 1 score: 0\n",
      "Player 2 score: 64\n",
      "It is player 1's turn\n",
      "\tRoll: 6\n",
      "\tRoll: 3\n",
      "\tRoll: 4\n",
      "\tRoll: 5\n",
      "\tRoll: 1\n",
      "Turn total: 0\n",
      "New score: 0\n",
      "Player 1 score: 0\n",
      "Player 2 score: 64\n",
      "It is player 2's turn\n",
      "\tRoll: 3\n",
      "Turn total: 3\n"
     ]
    },
    {
     "name": "stdin",
     "output_type": "stream",
     "text": [
      "Roll/Hold? \n"
     ]
    },
    {
     "name": "stdout",
     "output_type": "stream",
     "text": [
      "\tRoll: 4\n",
      "Turn total: 7\n"
     ]
    },
    {
     "name": "stdin",
     "output_type": "stream",
     "text": [
      "Roll/Hold? \n"
     ]
    },
    {
     "name": "stdout",
     "output_type": "stream",
     "text": [
      "\tRoll: 3\n",
      "Turn total: 10\n"
     ]
    },
    {
     "name": "stdin",
     "output_type": "stream",
     "text": [
      "Roll/Hold? \n"
     ]
    },
    {
     "name": "stdout",
     "output_type": "stream",
     "text": [
      "\tRoll: 5\n",
      "Turn total: 15\n"
     ]
    },
    {
     "name": "stdin",
     "output_type": "stream",
     "text": [
      "Roll/Hold? \n"
     ]
    },
    {
     "name": "stdout",
     "output_type": "stream",
     "text": [
      "\tRoll: 6\n",
      "Turn total: 21\n"
     ]
    },
    {
     "name": "stdin",
     "output_type": "stream",
     "text": [
      "Roll/Hold? \n"
     ]
    },
    {
     "name": "stdout",
     "output_type": "stream",
     "text": [
      "\tRoll: 2\n",
      "Turn total: 23\n"
     ]
    },
    {
     "name": "stdin",
     "output_type": "stream",
     "text": [
      "Roll/Hold? p\n"
     ]
    },
    {
     "name": "stdout",
     "output_type": "stream",
     "text": [
      "Turn total: 23\n",
      "New score: 87\n",
      "Player 1 score: 0\n",
      "Player 2 score: 87\n",
      "It is player 1's turn\n",
      "\tRoll: 5\n",
      "\tRoll: 4\n",
      "\tRoll: 4\n",
      "\tRoll: 5\n",
      "\tRoll: 3\n",
      "Turn total: 21\n",
      "New score: 21\n",
      "Player 1 score: 21\n",
      "Player 2 score: 87\n",
      "It is player 2's turn\n",
      "\tRoll: 1\n",
      "Turn total: 0\n",
      "New score: 87\n",
      "Player 1 score: 21\n",
      "Player 2 score: 87\n",
      "It is player 1's turn\n",
      "\tRoll: 5\n",
      "\tRoll: 1\n",
      "Turn total: 0\n",
      "New score: 21\n",
      "Player 1 score: 21\n",
      "Player 2 score: 87\n",
      "It is player 2's turn\n",
      "\tRoll: 1\n",
      "Turn total: 0\n",
      "New score: 87\n",
      "Player 1 score: 21\n",
      "Player 2 score: 87\n",
      "It is player 1's turn\n",
      "\tRoll: 6\n",
      "\tRoll: 4\n",
      "\tRoll: 6\n",
      "\tRoll: 6\n",
      "Turn total: 22\n",
      "New score: 43\n",
      "Player 1 score: 43\n",
      "Player 2 score: 87\n",
      "It is player 2's turn\n",
      "\tRoll: 6\n",
      "Turn total: 6\n"
     ]
    },
    {
     "name": "stdin",
     "output_type": "stream",
     "text": [
      "Roll/Hold? \n"
     ]
    },
    {
     "name": "stdout",
     "output_type": "stream",
     "text": [
      "\tRoll: 1\n",
      "Turn total: 0\n",
      "New score: 87\n",
      "Player 1 score: 43\n",
      "Player 2 score: 87\n",
      "It is player 1's turn\n",
      "\tRoll: 5\n",
      "\tRoll: 4\n",
      "\tRoll: 3\n",
      "\tRoll: 2\n",
      "\tRoll: 6\n",
      "Turn total: 20\n",
      "New score: 63\n",
      "Player 1 score: 63\n",
      "Player 2 score: 87\n",
      "It is player 2's turn\n",
      "\tRoll: 3\n",
      "Turn total: 3\n"
     ]
    },
    {
     "name": "stdin",
     "output_type": "stream",
     "text": [
      "Roll/Hold? \n"
     ]
    },
    {
     "name": "stdout",
     "output_type": "stream",
     "text": [
      "\tRoll: 6\n",
      "Turn total: 9\n"
     ]
    },
    {
     "name": "stdin",
     "output_type": "stream",
     "text": [
      "Roll/Hold? \n"
     ]
    },
    {
     "name": "stdout",
     "output_type": "stream",
     "text": [
      "\tRoll: 1\n",
      "Turn total: 0\n",
      "New score: 87\n",
      "Player 1 score: 63\n",
      "Player 2 score: 87\n",
      "It is player 1's turn\n",
      "\tRoll: 2\n",
      "\tRoll: 5\n",
      "\tRoll: 2\n",
      "\tRoll: 2\n",
      "\tRoll: 2\n",
      "\tRoll: 5\n",
      "\tRoll: 4\n",
      "Turn total: 22\n",
      "New score: 85\n",
      "Player 1 score: 85\n",
      "Player 2 score: 87\n",
      "It is player 2's turn\n",
      "\tRoll: 1\n",
      "Turn total: 0\n",
      "New score: 87\n",
      "Player 1 score: 85\n",
      "Player 2 score: 87\n",
      "It is player 1's turn\n",
      "\tRoll: 1\n",
      "Turn total: 0\n",
      "New score: 85\n",
      "Player 1 score: 85\n",
      "Player 2 score: 87\n",
      "It is player 2's turn\n",
      "\tRoll: 3\n",
      "Turn total: 3\n"
     ]
    },
    {
     "name": "stdin",
     "output_type": "stream",
     "text": [
      "Roll/Hold? \n"
     ]
    },
    {
     "name": "stdout",
     "output_type": "stream",
     "text": [
      "\tRoll: 5\n",
      "Turn total: 8\n"
     ]
    },
    {
     "name": "stdin",
     "output_type": "stream",
     "text": [
      "Roll/Hold? \n"
     ]
    },
    {
     "name": "stdout",
     "output_type": "stream",
     "text": [
      "\tRoll: 4\n",
      "Turn total: 12\n"
     ]
    },
    {
     "name": "stdin",
     "output_type": "stream",
     "text": [
      "Roll/Hold? p\n"
     ]
    },
    {
     "name": "stdout",
     "output_type": "stream",
     "text": [
      "Turn total: 12\n",
      "New score: 99\n",
      "Player 1 score: 85\n",
      "Player 2 score: 99\n",
      "It is player 1's turn\n",
      "\tRoll: 1\n",
      "Turn total: 0\n",
      "New score: 85\n",
      "Player 1 score: 85\n",
      "Player 2 score: 99\n",
      "It is player 2's turn\n",
      "\tRoll: 3\n",
      "Turn total: 3\n"
     ]
    },
    {
     "name": "stdin",
     "output_type": "stream",
     "text": [
      "Roll/Hold? p\n"
     ]
    },
    {
     "name": "stdout",
     "output_type": "stream",
     "text": [
      "Turn total: 3\n",
      "New score: 102\n",
      "Player 1 score: 85\n",
      "Player 2 score: 102\n",
      "The winner is: Player 2\n"
     ]
    }
   ],
   "source": [
    "import random\n",
    "random.seed(0)\n",
    "\n",
    "human = random.randint(0,1)\n",
    "computer = 1 - human\n",
    "\n",
    "print(f\"You will be player {human + 1}\");\n",
    "print(\"Enter nothing to roll; enter anything to hold.\\n\")\n",
    "\n",
    "scores = [0,0]\n",
    "\n",
    "current_player = 0 \n",
    "while max(scores) < 100:\n",
    "\n",
    "    # Print scores and Declare the turn player\n",
    "    print(\"Player 1 score:\", scores[0])\n",
    "    print(\"Player 2 score:\", scores[1])\n",
    "    print(f\"It is player {current_player + 1}'s turn\");\n",
    "\n",
    "    roll = 0\n",
    "    turn_total = 0\n",
    "\n",
    "    # human's turn\n",
    "    if human == current_player:\n",
    "\n",
    "        response = \"\"\n",
    "        \n",
    "        while roll != 1 and response == \"\":\n",
    "            roll = random.randint(1,6)\n",
    "            print(f\"\\tRoll: {roll}\")\n",
    "            if roll == 1:\n",
    "                turn_total = 0\n",
    "            else:\n",
    "                turn_total += roll\n",
    "                print(\"Turn total:\", turn_total)\n",
    "                response = input(\"Roll/Hold?\")\n",
    "\n",
    "    # computer's turn\n",
    "    else: \n",
    "        # Rolls in each turn\n",
    "        while roll != 1 and turn_total < 20 and scores[computer] + turn_total < 100:\n",
    "            roll = random.randint(1,6)\n",
    "            print(f\"\\tRoll: {roll}\")\n",
    "            if roll == 1:\n",
    "                turn_total = 0\n",
    "            else:\n",
    "                turn_total += roll\n",
    "\n",
    "    # Print turn total and new score\n",
    "    scores[current_player] += turn_total\n",
    "    print(\"Turn total:\", turn_total)\n",
    "    print(\"New score:\", scores[current_player])\n",
    "\n",
    "    # switch player\n",
    "    current_player = 1 - current_player\n",
    "    \n",
    "# declare winner\n",
    "print(\"Player 1 score:\", scores[0])\n",
    "print(\"Player 2 score:\", scores[1])\n",
    "print(\"The winner is: Player\", 1 - current_player + 1);\n"
   ]
  },
  {
   "cell_type": "markdown",
   "metadata": {},
   "source": [
    "### 2"
   ]
  },
  {
   "cell_type": "code",
   "execution_count": 35,
   "metadata": {},
   "outputs": [
    {
     "name": "stdin",
     "output_type": "stream",
     "text": [
      "Enter pile sizes: 1 2 3\n"
     ]
    },
    {
     "name": "stdout",
     "output_type": "stream",
     "text": [
      "0: *\n",
      "1: **\n",
      "2: ***\n",
      "Player 1's turn\n"
     ]
    },
    {
     "name": "stdin",
     "output_type": "stream",
     "text": [
      "enter pile and number of objects to remove: 2 2\n"
     ]
    },
    {
     "name": "stdout",
     "output_type": "stream",
     "text": [
      "0: *\n",
      "1: **\n",
      "2: *\n",
      "Player 2's turn\n"
     ]
    },
    {
     "name": "stdin",
     "output_type": "stream",
     "text": [
      "enter pile and number of objects to remove: 0 1\n"
     ]
    },
    {
     "name": "stdout",
     "output_type": "stream",
     "text": [
      "0: \n",
      "1: **\n",
      "2: *\n",
      "Player 1's turn\n"
     ]
    },
    {
     "name": "stdin",
     "output_type": "stream",
     "text": [
      "enter pile and number of objects to remove: 1 2\n"
     ]
    },
    {
     "name": "stdout",
     "output_type": "stream",
     "text": [
      "0: \n",
      "1: \n",
      "2: *\n",
      "Player 2's turn\n"
     ]
    },
    {
     "name": "stdin",
     "output_type": "stream",
     "text": [
      "enter pile and number of objects to remove: 2 1\n"
     ]
    },
    {
     "name": "stdout",
     "output_type": "stream",
     "text": [
      "Player 2 wins!\n"
     ]
    }
   ],
   "source": [
    "s = input(\"Enter pile sizes:\").split(\" \")\n",
    "sizes = []\n",
    "i = 0\n",
    "while i < len(s):\n",
    "    sizes.append(int(s[i]))\n",
    "    i += 1\n",
    "\n",
    "current_player = 1\n",
    "\n",
    "while sum(sizes) > 0:\n",
    "    j = 0\n",
    "    while j < len(sizes):\n",
    "        print(f\"{j}:\", \"*\" * sizes[j])\n",
    "        j += 1\n",
    "    print(f\"Player {current_player}'s turn\")\n",
    "    response = input(\"enter pile and number of objects to remove:\").split(\" \")\n",
    "    pile, num_obj = int(response[0]), int(response[1])\n",
    "    sizes[pile] -= num_obj\n",
    "    current_player = 3 - current_player\n",
    "print(f\"Player {3 - current_player} wins!\")"
   ]
  },
  {
   "cell_type": "markdown",
   "metadata": {},
   "source": [
    "### 3"
   ]
  },
  {
   "cell_type": "code",
   "execution_count": 9,
   "metadata": {},
   "outputs": [
    {
     "name": "stdin",
     "output_type": "stream",
     "text": [
      "Enter # of rows and cols: 12 12\n"
     ]
    },
    {
     "name": "stdout",
     "output_type": "stream",
     "text": [
      "\n",
      "     0   1   2   3   4   5   6   7   8   9   10  11 \n",
      " 0   #   #   #   #   #   #   #   #   #   #   #   #  \n",
      " 1   #   #   #   #   #   #   #   #   #   #   #   #  \n",
      " 2   #   #   #   #   #   #   #   #   #   #   #   #  \n",
      " 3   #   #   #   #   #   #   #   #   #   #   #   #  \n",
      " 4   #   #   #   #   #   #   #   #   #   #   #   #  \n",
      " 5   #   #   #   #   #   #   #   #   #   #   #   #  \n",
      " 6   #   #   #   #   #   #   #   #   #   #   #   #  \n",
      " 7   #   #   #   #   #   #   #   #   #   #   #   #  \n",
      " 8   #   #   #   #   #   #   #   #   #   #   #   #  \n",
      " 9   #   #   #   #   #   #   #   #   #   #   #   #  \n",
      " 10  #   #   #   #   #   #   #   #   #   #   #   #  \n",
      " 11  #   #   #   #   #   #   #   #   #   #   #   #  \n",
      "\n",
      "It is Player 1's turn\n"
     ]
    },
    {
     "name": "stdin",
     "output_type": "stream",
     "text": [
      "Enter row and column to chomp: 3 3\n"
     ]
    },
    {
     "name": "stdout",
     "output_type": "stream",
     "text": [
      "\n",
      "     0   1   2   3   4   5   6   7   8   9   10  11 \n",
      " 0   #   #   #   #   #   #   #   #   #   #   #   #  \n",
      " 1   #   #   #   #   #   #   #   #   #   #   #   #  \n",
      " 2   #   #   #   #   #   #   #   #   #   #   #   #  \n",
      " 3   #   #   #  \n",
      " 4   #   #   #  \n",
      " 5   #   #   #  \n",
      " 6   #   #   #  \n",
      " 7   #   #   #  \n",
      " 8   #   #   #  \n",
      " 9   #   #   #  \n",
      " 10  #   #   #  \n",
      " 11  #   #   #  \n",
      "\n",
      "It is Player 2's turn\n"
     ]
    },
    {
     "name": "stdin",
     "output_type": "stream",
     "text": [
      "Enter row and column to chomp: 0 1\n"
     ]
    },
    {
     "name": "stdout",
     "output_type": "stream",
     "text": [
      "\n",
      "     0   1   2   3   4   5   6   7   8   9   10  11 \n",
      " 0   #  \n",
      " 1   #  \n",
      " 2   #  \n",
      " 3   #  \n",
      " 4   #  \n",
      " 5   #  \n",
      " 6   #  \n",
      " 7   #  \n",
      " 8   #  \n",
      " 9   #  \n",
      " 10  #  \n",
      " 11  #  \n",
      "\n",
      "It is Player 1's turn\n"
     ]
    },
    {
     "name": "stdin",
     "output_type": "stream",
     "text": [
      "Enter row and column to chomp: 2 0\n"
     ]
    },
    {
     "name": "stdout",
     "output_type": "stream",
     "text": [
      "\n",
      "     0   1   2   3   4   5   6   7   8   9   10  11 \n",
      " 0   #  \n",
      " 1   #  \n",
      " 2  \n",
      " 3  \n",
      " 4  \n",
      " 5  \n",
      " 6  \n",
      " 7  \n",
      " 8  \n",
      " 9  \n",
      " 10 \n",
      " 11 \n",
      "\n",
      "It is Player 2's turn\n"
     ]
    },
    {
     "name": "stdin",
     "output_type": "stream",
     "text": [
      "Enter row and column to chomp: 0 0\n"
     ]
    },
    {
     "name": "stdout",
     "output_type": "stream",
     "text": [
      "Player 1 wins!\n"
     ]
    }
   ],
   "source": [
    "rc = input(\"Enter # of rows and cols:\").split(\" \")\n",
    "rows, cols = int(rc[0]), int(rc[1])\n",
    "\n",
    "cookie = [cols] * rows\n",
    "\n",
    "space = 2 * len(str(cols))\n",
    "c = 0\n",
    "num_row = \" \" * len(str(rows))\n",
    "while c < cols:\n",
    "    num_row += str(c).center(space)\n",
    "    c += 1\n",
    "\n",
    "current_player = 1\n",
    "while sum(cookie) > 0:\n",
    "    \n",
    "    # print board\n",
    "    print(\"\\n\" + \" \" * (len(str(rows)) - 1), num_row)\n",
    "    j = 0\n",
    "    while j < rows:\n",
    "        print(str(j).center(space) + \"#\".center(space) * cookie[j])\n",
    "        j += 1\n",
    "    \n",
    "    # get user input\n",
    "    print(f\"\\nIt is Player {current_player}'s turn\")\n",
    "    response = input(\"Enter row and column to chomp:\").split(\" \")\n",
    "    row, col = int(response[0]), int(response[1])\n",
    "    \n",
    "    # play\n",
    "    r = row\n",
    "    while r < rows:\n",
    "        cookie[r] = min(col, cookie[r])\n",
    "        r += 1\n",
    "    \n",
    "    # switch player\n",
    "    current_player = 3 - current_player\n",
    "\n",
    "print(f\"Player {current_player} wins!\")"
   ]
  },
  {
   "cell_type": "markdown",
   "metadata": {},
   "source": [
    "### 4 "
   ]
  },
  {
   "cell_type": "code",
   "execution_count": 39,
   "metadata": {},
   "outputs": [
    {
     "name": "stdin",
     "output_type": "stream",
     "text": [
      "Enter First and Last Name, separated by a space: peter francis\n"
     ]
    },
    {
     "name": "stdout",
     "output_type": "stream",
     "text": [
      "username franpe01 added to usernames\n"
     ]
    },
    {
     "name": "stdin",
     "output_type": "stream",
     "text": [
      "Enter First and Last Name, separated by a space: peter francis\n"
     ]
    },
    {
     "name": "stdout",
     "output_type": "stream",
     "text": [
      "username franpe02 added to usernames\n"
     ]
    },
    {
     "name": "stdin",
     "output_type": "stream",
     "text": [
      "Enter First and Last Name, separated by a space: peter francis\n"
     ]
    },
    {
     "name": "stdout",
     "output_type": "stream",
     "text": [
      "username franpe03 added to usernames\n"
     ]
    },
    {
     "name": "stdin",
     "output_type": "stream",
     "text": [
      "Enter First and Last Name, separated by a space: \n"
     ]
    },
    {
     "name": "stdout",
     "output_type": "stream",
     "text": [
      "Usernames: ['franpe01', 'franpe02', 'franpe03']\n"
     ]
    }
   ],
   "source": [
    "usernames = []\n",
    "\n",
    "name = input(\"Enter First and Last Name, separated by a space:\").lower().strip()\n",
    "while name != \"\":\n",
    "    fl = name.split(\" \")\n",
    "    first = fl[0].strip()\n",
    "    last = fl[1].strip()\n",
    "    i = 1\n",
    "    while i == 1 or username in usernames:\n",
    "        username = last[:4] + first[:2] + (\"0\" if i < 10 else \"\") + f\"{i}\"\n",
    "        i += 1\n",
    "    usernames.append(username)\n",
    "    print(f\"username {username} added to usernames\")\n",
    "    name = input(\"Enter First and Last Name, separated by a space:\").lower().strip()\n",
    "print(\"Usernames:\", usernames)"
   ]
  },
  {
   "cell_type": "markdown",
   "metadata": {},
   "source": [
    "### 5"
   ]
  },
  {
   "cell_type": "code",
   "execution_count": 73,
   "metadata": {},
   "outputs": [
    {
     "name": "stdin",
     "output_type": "stream",
     "text": [
      "Enter a non-negative integer: 2\n"
     ]
    },
    {
     "name": "stdout",
     "output_type": "stream",
     "text": [
      "((), ((),))\n"
     ]
    }
   ],
   "source": [
    "n = int(input(\"Enter a non-negative integer:\"))\n",
    "tup = ()\n",
    "while len(tup) < n:\n",
    "    tup = (*tup, tup)\n",
    "print(tup)"
   ]
  },
  {
   "cell_type": "code",
   "execution_count": 11,
   "metadata": {},
   "outputs": [
    {
     "name": "stdin",
     "output_type": "stream",
     "text": [
      "Enter a non-negative integer: 2\n"
     ]
    },
    {
     "name": "stdout",
     "output_type": "stream",
     "text": [
      "((), ((),))\n"
     ]
    }
   ],
   "source": [
    "n = int(input(\"Enter a non-negative integer:\"))\n",
    "tup = ()\n",
    "while len(tup) < n:\n",
    "    tup = tup + (tup,)\n",
    "print(tup)"
   ]
  },
  {
   "cell_type": "code",
   "execution_count": 3,
   "metadata": {},
   "outputs": [
    {
     "name": "stdin",
     "output_type": "stream",
     "text": [
      "Enter a non-negative integer: 2\n"
     ]
    },
    {
     "name": "stdout",
     "output_type": "stream",
     "text": [
      "((), ((),))\n"
     ]
    }
   ],
   "source": [
    "f = lambda t : t if len(t) == n else f((*t, t))\n",
    "n = int(input(\"Enter a non-negative integer:\"))\n",
    "print(f(()))"
   ]
  },
  {
   "cell_type": "markdown",
   "metadata": {},
   "source": [
    "### 6"
   ]
  },
  {
   "cell_type": "code",
   "execution_count": 5,
   "metadata": {},
   "outputs": [
    {
     "name": "stdout",
     "output_type": "stream",
     "text": [
      "[1, 2, 3, 4, 5]\n"
     ]
    }
   ],
   "source": [
    "a = [1, 2, 3, 4, 5]\n",
    "\n",
    "b = []\n",
    "i = 0\n",
    "while i < len(a):\n",
    "    b.append(a[i])\n",
    "    i += 1\n",
    "\n",
    "a[0] = 100\n",
    "print(b)"
   ]
  },
  {
   "cell_type": "markdown",
   "metadata": {},
   "source": [
    "### 7"
   ]
  },
  {
   "cell_type": "markdown",
   "metadata": {},
   "source": [
    "##### back-to-front"
   ]
  },
  {
   "cell_type": "code",
   "execution_count": 6,
   "metadata": {},
   "outputs": [
    {
     "name": "stdout",
     "output_type": "stream",
     "text": [
      "[1, 2, 3, 4, 5, 6, 7, 8, 9, 10, 11, 12]\n"
     ]
    }
   ],
   "source": [
    "a = [1, 2, [3, 4, [5, 6], 7], [8, 9, [10, 11]], 12]\n",
    "\n",
    "b = []\n",
    "while len(a) > 0:\n",
    "    el = a.pop()\n",
    "    if type(el) == list:\n",
    "        a.extend(el)\n",
    "    else:\n",
    "        b.append(el)\n",
    "b = b[::-1]\n",
    "\n",
    "print(b)"
   ]
  },
  {
   "cell_type": "markdown",
   "metadata": {},
   "source": [
    "##### front-to-back"
   ]
  },
  {
   "cell_type": "code",
   "execution_count": 2,
   "metadata": {},
   "outputs": [
    {
     "name": "stdout",
     "output_type": "stream",
     "text": [
      "[1, 2, 3, 4, 5, 6, 7, 8, 9, 10, 11, 12]\n"
     ]
    }
   ],
   "source": [
    "a = [1, 2, [3, 4, [5, 6], 7], [8, 9, [10, 11]], 12]\n",
    "\n",
    "b = []\n",
    "while len(a) > 0:\n",
    "    el = a[0]\n",
    "    del a[0]\n",
    "    if type(el) == list:\n",
    "        while len(el) > 0:\n",
    "            a.insert(0, el.pop())\n",
    "    else:\n",
    "        b.append(el)\n",
    "\n",
    "print(b)"
   ]
  },
  {
   "cell_type": "markdown",
   "metadata": {},
   "source": [
    "### 8"
   ]
  },
  {
   "cell_type": "markdown",
   "metadata": {},
   "source": [
    "##### random access"
   ]
  },
  {
   "cell_type": "code",
   "execution_count": 43,
   "metadata": {},
   "outputs": [
    {
     "name": "stdout",
     "output_type": "stream",
     "text": [
      "[5, 3, 4, 2, 7, 8, 6, 1, 9]\n"
     ]
    }
   ],
   "source": [
    "import random\n",
    "\n",
    "a = [1, 2, 3, 4, 5, 6, 7, 8, 9]\n",
    "\n",
    "b = []\n",
    "a_ = a.copy()\n",
    "while len(a_) > 0:\n",
    "    i = random.randint(0, len(a_) - 1)\n",
    "    b.append(a_[i])\n",
    "    del a_[i]\n",
    "    \n",
    "print(b)"
   ]
  },
  {
   "cell_type": "markdown",
   "metadata": {},
   "source": [
    "##### Fisher-Yates"
   ]
  },
  {
   "cell_type": "code",
   "execution_count": 71,
   "metadata": {},
   "outputs": [
    {
     "name": "stdout",
     "output_type": "stream",
     "text": [
      "[7, 8, 3, 6, 9, 5, 2, 4, 1]\n"
     ]
    }
   ],
   "source": [
    "import random\n",
    "\n",
    "a = [1, 2, 3, 4, 5, 6, 7, 8, 9]\n",
    "\n",
    "i = 0\n",
    "while i < len(a):\n",
    "    j = random.randint(i, len(a) - 1)\n",
    "    temp = a[i]\n",
    "    a[i] = a[j]\n",
    "    a[j] = temp\n",
    "    i += 1\n",
    "\n",
    "print(a)"
   ]
  },
  {
   "cell_type": "markdown",
   "metadata": {},
   "source": [
    "##### random.shuffle()"
   ]
  },
  {
   "cell_type": "code",
   "execution_count": 73,
   "metadata": {},
   "outputs": [
    {
     "name": "stdout",
     "output_type": "stream",
     "text": [
      "[3, 1, 4, 9, 7, 2, 5, 6, 8]\n"
     ]
    }
   ],
   "source": [
    "import random\n",
    "\n",
    "a = [1, 2, 3, 4, 5, 6, 7, 8, 9]\n",
    "\n",
    "random.shuffle(a)\n",
    "\n",
    "print(a)"
   ]
  },
  {
   "cell_type": "markdown",
   "metadata": {},
   "source": [
    "### 9"
   ]
  },
  {
   "cell_type": "code",
   "execution_count": 12,
   "metadata": {},
   "outputs": [
    {
     "name": "stdout",
     "output_type": "stream",
     "text": [
      "[8, 7, 6, 5, 4, 3, 2, 1]\n"
     ]
    }
   ],
   "source": [
    "a = [1, 2, 3, 4, 5, 6, 7, 8]\n",
    "\n",
    "b = []\n",
    "while len(a) > 0:\n",
    "    b.append(a.pop())\n",
    "\n",
    "print(b)"
   ]
  },
  {
   "cell_type": "markdown",
   "metadata": {},
   "source": [
    "### 10"
   ]
  },
  {
   "cell_type": "code",
   "execution_count": 80,
   "metadata": {},
   "outputs": [
    {
     "name": "stdout",
     "output_type": "stream",
     "text": [
      "[1, 6, 2, 7, 3, 8, 4, 9, 5, 10]\n"
     ]
    }
   ],
   "source": [
    "a = [1, 2, 3, 4, 5, 6, 7, 8, 9, 10]\n",
    "\n",
    "half = int(len(a) / 2)\n",
    "b = []\n",
    "i = 0\n",
    "while i < half:\n",
    "    b.append(a[i])\n",
    "    b.append(a[i + half])\n",
    "    i += 1\n",
    "    \n",
    "print(b)"
   ]
  },
  {
   "cell_type": "code",
   "execution_count": null,
   "metadata": {},
   "outputs": [],
   "source": [
    "a = [1, 2, 3, 4, 5, 6, 7, 8, 9, 10]\n",
    "\n",
    "b = a.copy()\n",
    "\n",
    "count = 0\n",
    "first = True\n",
    "while first or b != a:\n",
    "    \n",
    "\n",
    "half = int(len(a) / 2)\n",
    "b = []\n",
    "i = 0\n",
    "while i < half:\n",
    "    b.append(a[i])\n",
    "    b.append(a[i + half])\n",
    "    i += 1\n",
    "    \n",
    "print(b)"
   ]
  }
 ],
 "metadata": {
  "kernelspec": {
   "display_name": "Python 3",
   "language": "python",
   "name": "python3"
  },
  "language_info": {
   "codemirror_mode": {
    "name": "ipython",
    "version": 3
   },
   "file_extension": ".py",
   "mimetype": "text/x-python",
   "name": "python",
   "nbconvert_exporter": "python",
   "pygments_lexer": "ipython3",
   "version": "3.7.7"
  }
 },
 "nbformat": 4,
 "nbformat_minor": 4
}
