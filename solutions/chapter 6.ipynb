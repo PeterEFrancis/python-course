{
 "cells": [
  {
   "cell_type": "markdown",
   "metadata": {},
   "source": [
    "# Solutions\n",
    "\n",
    "### `while` loops"
   ]
  },
  {
   "cell_type": "markdown",
   "metadata": {},
   "source": [
    "### 1"
   ]
  },
  {
   "cell_type": "code",
   "execution_count": 1,
   "metadata": {},
   "outputs": [
    {
     "name": "stdout",
     "output_type": "stream",
     "text": [
      "Roll: 4\n",
      "Roll: 4\n",
      "Roll: 1\n",
      "Turn total: 0\n"
     ]
    }
   ],
   "source": [
    "import random\n",
    "random.seed(0)\n",
    "\n",
    "roll = 0\n",
    "turn_total = 0\n",
    "while roll != 1 and turn_total < 20:\n",
    "    roll = random.randint(1,6)\n",
    "    print(f\"Roll: {roll}\")\n",
    "    if roll == 1:\n",
    "        turn_total = 0\n",
    "    else:\n",
    "        turn_total += roll\n",
    "print(f\"Turn total: {turn_total}\")"
   ]
  },
  {
   "cell_type": "markdown",
   "metadata": {},
   "source": [
    "### 2"
   ]
  },
  {
   "cell_type": "code",
   "execution_count": 21,
   "metadata": {},
   "outputs": [
    {
     "name": "stdin",
     "output_type": "stream",
     "text": [
      "Score?  96\n"
     ]
    },
    {
     "name": "stdout",
     "output_type": "stream",
     "text": [
      "Roll: 4\n",
      "Turn total: 4\n",
      "New Score: 100\n"
     ]
    }
   ],
   "source": [
    "import random\n",
    "random.seed(41)\n",
    "\n",
    "roll = 0\n",
    "turn_total = 0\n",
    "score = int(input(\"Score? \"))\n",
    "while roll != 1 and turn_total < 20 and turn_total + score < 100:\n",
    "    roll = random.randint(1,6)\n",
    "    print(f\"Roll: {roll}\")\n",
    "    if roll == 1:\n",
    "        turn_total = 0\n",
    "    else:\n",
    "        turn_total += roll\n",
    "print(f\"Turn total: {turn_total}\")\n",
    "print(f\"New Score: {score + turn_total}\")"
   ]
  },
  {
   "cell_type": "markdown",
   "metadata": {},
   "source": [
    "### 3"
   ]
  },
  {
   "cell_type": "code",
   "execution_count": 4,
   "metadata": {},
   "outputs": [
    {
     "name": "stdout",
     "output_type": "stream",
     "text": [
      "Roll: 2\n",
      "Roll: 5\n",
      "Roll: 1\n",
      "Turn total: 0\n",
      "New Score: 0\n",
      "Roll: 3\n",
      "Roll: 1\n",
      "Turn total: 0\n",
      "New Score: 0\n",
      "Roll: 4\n",
      "Roll: 4\n",
      "Roll: 4\n",
      "Roll: 6\n",
      "Roll: 4\n",
      "Turn total: 22\n",
      "New Score: 22\n",
      "Roll: 2\n",
      "Roll: 1\n",
      "Turn total: 0\n",
      "New Score: 22\n",
      "Roll: 4\n",
      "Roll: 1\n",
      "Turn total: 0\n",
      "New Score: 22\n",
      "Roll: 4\n",
      "Roll: 4\n",
      "Roll: 5\n",
      "Roll: 1\n",
      "Turn total: 0\n",
      "New Score: 22\n",
      "Roll: 6\n",
      "Roll: 4\n",
      "Roll: 3\n",
      "Roll: 6\n",
      "Roll: 2\n",
      "Turn total: 21\n",
      "New Score: 43\n",
      "Roll: 5\n",
      "Roll: 1\n",
      "Turn total: 0\n",
      "New Score: 43\n",
      "Roll: 3\n",
      "Roll: 1\n",
      "Turn total: 0\n",
      "New Score: 43\n",
      "Roll: 1\n",
      "Turn total: 0\n",
      "New Score: 43\n",
      "Roll: 1\n",
      "Turn total: 0\n",
      "New Score: 43\n",
      "Roll: 6\n",
      "Roll: 5\n",
      "Roll: 1\n",
      "Turn total: 0\n",
      "New Score: 43\n",
      "Roll: 4\n",
      "Roll: 6\n",
      "Roll: 2\n",
      "Roll: 4\n",
      "Roll: 6\n",
      "Turn total: 22\n",
      "New Score: 65\n",
      "Roll: 1\n",
      "Turn total: 0\n",
      "New Score: 65\n",
      "Roll: 5\n",
      "Roll: 2\n",
      "Roll: 4\n",
      "Roll: 4\n",
      "Roll: 5\n",
      "Turn total: 20\n",
      "New Score: 85\n",
      "Roll: 2\n",
      "Roll: 3\n",
      "Roll: 2\n",
      "Roll: 6\n",
      "Roll: 2\n",
      "Turn total: 15\n",
      "New Score: 100\n"
     ]
    }
   ],
   "source": [
    "import random\n",
    "random.seed(1)\n",
    "\n",
    "score = 0\n",
    "\n",
    "# repeat turn until the score is at least 100\n",
    "while score < 100:\n",
    "    # take a turn\n",
    "    roll = 0\n",
    "    turn_total = 0\n",
    "    while roll != 1 and turn_total < 20 and turn_total + score < 100:\n",
    "        roll = random.randint(1,6)\n",
    "        print(f\"Roll: {roll}\")\n",
    "        if roll == 1:\n",
    "            turn_total = 0\n",
    "        else:\n",
    "            turn_total += roll\n",
    "        \n",
    "    score += turn_total\n",
    "    \n",
    "    print(f\"Turn total: {turn_total}\")\n",
    "    print(f\"New Score: {score}\")"
   ]
  },
  {
   "cell_type": "markdown",
   "metadata": {},
   "source": [
    "### 4"
   ]
  },
  {
   "cell_type": "code",
   "execution_count": 4,
   "metadata": {},
   "outputs": [
    {
     "name": "stdin",
     "output_type": "stream",
     "text": [
      "Games?  1000\n"
     ]
    },
    {
     "name": "stdout",
     "output_type": "stream",
     "text": [
      "Average number of turns: 12.631\n"
     ]
    }
   ],
   "source": [
    "import random\n",
    "random.seed(1)\n",
    "\n",
    "num_games = int(input(\"Games? \"))\n",
    "\n",
    "avg_num_turns = 0\n",
    "\n",
    "game = 0\n",
    "while game < num_games:\n",
    "    \n",
    "    score = 0\n",
    "\n",
    "    num_turns = 0\n",
    "    while score < 100:\n",
    "        roll = 0\n",
    "        turn_total = 0\n",
    "        while roll != 1 and turn_total < 20 and turn_total + score < 100:\n",
    "            roll = random.randint(1,6)\n",
    "            if roll == 1:\n",
    "                turn_total = 0\n",
    "            else:\n",
    "                turn_total += roll\n",
    "        score += turn_total\n",
    "        num_turns += 1\n",
    "    avg_num_turns += num_turns    \n",
    "    game += 1\n",
    "    \n",
    "avg_num_turns /= num_games\n",
    "print(f\"Average number of turns: {avg_num_turns}\")"
   ]
  },
  {
   "cell_type": "markdown",
   "metadata": {},
   "source": [
    "### 5"
   ]
  },
  {
   "cell_type": "code",
   "execution_count": 1,
   "metadata": {},
   "outputs": [
    {
     "name": "stdout",
     "output_type": "stream",
     "text": [
      "Player 1 score: 0\n",
      "Player 2 score: 0\n",
      "It is Player 1's turn.\n",
      "Roll: 4\n",
      "Roll: 4\n",
      "Roll: 1\n",
      "Turn total: 0\n",
      "New Score: 0\n",
      "Player 1 score: 0\n",
      "Player 2 score: 0\n",
      "It is Player 2's turn.\n",
      "Roll: 3\n",
      "Roll: 5\n",
      "Roll: 4\n",
      "Roll: 4\n",
      "Roll: 3\n",
      "Roll: 4\n",
      "Turn total: 23\n",
      "New Score: 23\n",
      "Player 1 score: 0\n",
      "Player 2 score: 23\n",
      "It is Player 1's turn.\n",
      "Roll: 3\n",
      "Roll: 5\n",
      "Roll: 2\n",
      "Roll: 5\n",
      "Roll: 2\n",
      "Roll: 3\n",
      "Turn total: 20\n",
      "New Score: 20\n",
      "Player 1 score: 20\n",
      "Player 2 score: 23\n",
      "It is Player 2's turn.\n",
      "Roll: 2\n",
      "Roll: 1\n",
      "Turn total: 0\n",
      "New Score: 23\n",
      "Player 1 score: 20\n",
      "Player 2 score: 23\n",
      "It is Player 1's turn.\n",
      "Roll: 5\n",
      "Roll: 3\n",
      "Roll: 5\n",
      "Roll: 6\n",
      "Roll: 5\n",
      "Turn total: 24\n",
      "New Score: 44\n",
      "Player 1 score: 44\n",
      "Player 2 score: 23\n",
      "It is Player 2's turn.\n",
      "Roll: 2\n",
      "Roll: 3\n",
      "Roll: 1\n",
      "Turn total: 0\n",
      "New Score: 23\n",
      "Player 1 score: 44\n",
      "Player 2 score: 23\n",
      "It is Player 1's turn.\n",
      "Roll: 6\n",
      "Roll: 1\n",
      "Turn total: 0\n",
      "New Score: 44\n",
      "Player 1 score: 44\n",
      "Player 2 score: 23\n",
      "It is Player 2's turn.\n",
      "Roll: 6\n",
      "Roll: 3\n",
      "Roll: 4\n",
      "Roll: 5\n",
      "Roll: 1\n",
      "Turn total: 0\n",
      "New Score: 23\n",
      "Player 1 score: 44\n",
      "Player 2 score: 23\n",
      "It is Player 1's turn.\n",
      "Roll: 3\n",
      "Roll: 4\n",
      "Roll: 3\n",
      "Roll: 5\n",
      "Roll: 6\n",
      "Turn total: 21\n",
      "New Score: 65\n",
      "Player 1 score: 65\n",
      "Player 2 score: 23\n",
      "It is Player 2's turn.\n",
      "Roll: 2\n",
      "Roll: 5\n",
      "Roll: 4\n",
      "Roll: 4\n",
      "Roll: 5\n",
      "Turn total: 20\n",
      "New Score: 43\n",
      "Player 1 score: 65\n",
      "Player 2 score: 43\n",
      "It is Player 1's turn.\n",
      "Roll: 3\n",
      "Roll: 1\n",
      "Turn total: 0\n",
      "New Score: 65\n",
      "Player 1 score: 65\n",
      "Player 2 score: 43\n",
      "It is Player 2's turn.\n",
      "Roll: 5\n",
      "Roll: 1\n",
      "Turn total: 0\n",
      "New Score: 43\n",
      "Player 1 score: 65\n",
      "Player 2 score: 43\n",
      "It is Player 1's turn.\n",
      "Roll: 1\n",
      "Turn total: 0\n",
      "New Score: 65\n",
      "Player 1 score: 65\n",
      "Player 2 score: 43\n",
      "It is Player 2's turn.\n",
      "Roll: 6\n",
      "Roll: 4\n",
      "Roll: 6\n",
      "Roll: 6\n",
      "Turn total: 22\n",
      "New Score: 65\n",
      "Player 1 score: 65\n",
      "Player 2 score: 65\n",
      "It is Player 1's turn.\n",
      "Roll: 6\n",
      "Roll: 1\n",
      "Turn total: 0\n",
      "New Score: 65\n",
      "Player 1 score: 65\n",
      "Player 2 score: 65\n",
      "It is Player 2's turn.\n",
      "Roll: 5\n",
      "Roll: 4\n",
      "Roll: 3\n",
      "Roll: 2\n",
      "Roll: 6\n",
      "Turn total: 20\n",
      "New Score: 85\n",
      "Player 1 score: 65\n",
      "Player 2 score: 85\n",
      "It is Player 1's turn.\n",
      "Roll: 3\n",
      "Roll: 6\n",
      "Roll: 1\n",
      "Turn total: 0\n",
      "New Score: 65\n",
      "Player 1 score: 65\n",
      "Player 2 score: 85\n",
      "It is Player 2's turn.\n",
      "Roll: 2\n",
      "Roll: 5\n",
      "Roll: 2\n",
      "Roll: 2\n",
      "Roll: 2\n",
      "Roll: 5\n",
      "Turn total: 18\n",
      "New Score: 103\n",
      "Player 1 score: 65\n",
      "Player 2 score: 103\n",
      "Player 2 wins!\n"
     ]
    }
   ],
   "source": [
    "import random\n",
    "random.seed(0)\n",
    "\n",
    "score1 = 0\n",
    "score2 = 0\n",
    "\n",
    "current_player = 1\n",
    "\n",
    "# repeat turn until someone's score is at least 100\n",
    "while score1 < 100 and score2 < 100:\n",
    "    \n",
    "    # print scores\n",
    "    print(f\"Player 1 score: {score1}\")\n",
    "    print(f\"Player 2 score: {score2}\")\n",
    "    \n",
    "    print(f\"It is Player {current_player}'s turn.\")\n",
    "    \n",
    "    # set score depending on the current player\n",
    "    score = score1 if current_player == 1 else score2\n",
    "    \n",
    "    roll = 0\n",
    "    turn_total = 0\n",
    "    while roll != 1 and turn_total < 20 and turn_total + score < 100:\n",
    "        roll = random.randint(1,6)\n",
    "        print(f\"Roll: {roll}\")\n",
    "        if roll == 1:\n",
    "            turn_total = 0\n",
    "        else:\n",
    "            turn_total += roll\n",
    "    \n",
    "    print(f\"Turn total: {turn_total}\")\n",
    "    print(f\"New Score: {score + turn_total}\")\n",
    "    \n",
    "    if current_player == 1:\n",
    "        score1 += turn_total\n",
    "    else:\n",
    "        score2 += turn_total\n",
    "    \n",
    "    # switch player\n",
    "    current_player = 3 - current_player\n",
    "\n",
    "print(f\"Player 1 score: {score1}\")\n",
    "print(f\"Player 2 score: {score2}\")\n",
    "    \n",
    "print(f\"Player {3 - current_player} wins!\")"
   ]
  },
  {
   "cell_type": "markdown",
   "metadata": {},
   "source": [
    "### 6"
   ]
  },
  {
   "cell_type": "code",
   "execution_count": 6,
   "metadata": {},
   "outputs": [
    {
     "name": "stdin",
     "output_type": "stream",
     "text": [
      "Games?  10000\n"
     ]
    },
    {
     "name": "stdout",
     "output_type": "stream",
     "text": [
      "Probability of first player win: 0.5332\n"
     ]
    }
   ],
   "source": [
    "import random\n",
    "random.seed(0)\n",
    "\n",
    "num_games = int(input(\"Games? \"))\n",
    "\n",
    "first_player_win_count = 0\n",
    "\n",
    "game = 0\n",
    "while game < num_games:\n",
    "    score1 = 0\n",
    "    score2 = 0\n",
    "    current_player = 1\n",
    "    while score1 < 100 and score2 < 100:\n",
    "        score = score1 if current_player == 1 else score2\n",
    "        roll = 0\n",
    "        turn_total = 0\n",
    "        while roll != 1 and turn_total < 20 and turn_total + score < 100:\n",
    "            roll = random.randint(1,6)\n",
    "            if roll == 1:\n",
    "                turn_total = 0\n",
    "            else:\n",
    "                turn_total += roll\n",
    "        if current_player == 1:\n",
    "            score1 += turn_total\n",
    "        else:\n",
    "            score2 += turn_total\n",
    "        current_player = 3 - current_player\n",
    "    winner = 3 - current_player\n",
    "    if winner == 1:\n",
    "        first_player_win_count += 1\n",
    "    game += 1\n",
    "    \n",
    "print(f\"Probability of first player win: {first_player_win_count/num_games}\")"
   ]
  },
  {
   "cell_type": "markdown",
   "metadata": {},
   "source": [
    "### 7"
   ]
  },
  {
   "cell_type": "code",
   "execution_count": 19,
   "metadata": {},
   "outputs": [
    {
     "name": "stdin",
     "output_type": "stream",
     "text": [
      "Integer a?  504\n",
      "Integer b?  2226\n"
     ]
    },
    {
     "name": "stdout",
     "output_type": "stream",
     "text": [
      "Greatest Common divisor of a and b: 42\n"
     ]
    }
   ],
   "source": [
    "a = int(input(\"Integer a? \"))\n",
    "b = int(input(\"Integer b? \"))\n",
    "\n",
    "while b != 0:\n",
    "    a_prime = b\n",
    "    b_prime = a % b\n",
    "    a = a_prime\n",
    "    b = b_prime\n",
    "\n",
    "print(f\"Greatest Common divisor of a and b: {a}\")"
   ]
  },
  {
   "cell_type": "markdown",
   "metadata": {},
   "source": [
    "### 8"
   ]
  },
  {
   "cell_type": "code",
   "execution_count": 45,
   "metadata": {},
   "outputs": [
    {
     "name": "stdin",
     "output_type": "stream",
     "text": [
      "Enter an integer:  3\n"
     ]
    },
    {
     "name": "stdout",
     "output_type": "stream",
     "text": [
      "3\n"
     ]
    }
   ],
   "source": [
    "i = int(input(\"Enter an integer: \"))\n",
    "\n",
    "first = True\n",
    "while first or i < 3:\n",
    "    first = False\n",
    "    print(i)\n",
    "    i += 1"
   ]
  },
  {
   "cell_type": "markdown",
   "metadata": {},
   "source": [
    "### 9"
   ]
  },
  {
   "cell_type": "code",
   "execution_count": 9,
   "metadata": {},
   "outputs": [
    {
     "name": "stdin",
     "output_type": "stream",
     "text": [
      "Enter an positive integer:  12345\n"
     ]
    },
    {
     "name": "stdout",
     "output_type": "stream",
     "text": [
      "reversed: 54321\n"
     ]
    }
   ],
   "source": [
    "i = int(input(\"Enter an positive integer: \"))\n",
    "new_i = 0\n",
    "while i != 0:\n",
    "    new_i = new_i * 10 + (i % 10)\n",
    "    i //= 10\n",
    "print(\"reversed:\", new_i)"
   ]
  },
  {
   "cell_type": "markdown",
   "metadata": {},
   "source": [
    "### 10"
   ]
  },
  {
   "cell_type": "code",
   "execution_count": 38,
   "metadata": {},
   "outputs": [
    {
     "name": "stdin",
     "output_type": "stream",
     "text": [
      "Guess? 1\n"
     ]
    },
    {
     "name": "stdout",
     "output_type": "stream",
     "text": [
      "too low\n"
     ]
    },
    {
     "name": "stdin",
     "output_type": "stream",
     "text": [
      "try again: 6\n"
     ]
    },
    {
     "name": "stdout",
     "output_type": "stream",
     "text": [
      "Correct!\n"
     ]
    }
   ],
   "source": [
    "import random\n",
    "random.seed(0)\n",
    "\n",
    "a = random.randint(0,10)\n",
    "\n",
    "answer = int(input(\"Guess?\"))\n",
    "while answer != a:\n",
    "    print(\"too high\" if answer > a else \"too low\")\n",
    "    answer = int(input(\"try again:\"))\n",
    "print(\"Correct!\")"
   ]
  },
  {
   "cell_type": "markdown",
   "metadata": {},
   "source": [
    "### 11"
   ]
  },
  {
   "cell_type": "code",
   "execution_count": 6,
   "metadata": {},
   "outputs": [
    {
     "name": "stdin",
     "output_type": "stream",
     "text": [
      "49 + 97 =  140\n",
      "Wrong. Try again: 49 + 97 =  150\n",
      "Wrong. Try again: 49 + 97 =  146\n"
     ]
    },
    {
     "name": "stdout",
     "output_type": "stream",
     "text": [
      "Correct!\n"
     ]
    }
   ],
   "source": [
    "import random\n",
    "random.seed(0)\n",
    "\n",
    "a = random.randint(0,99)\n",
    "b = random.randint(0,99)\n",
    "\n",
    "answer = int(input(f\"{a} + {b} = \"))\n",
    "while answer != a + b:\n",
    "    answer = int(input(f\"Wrong. Try again: {a} + {b} = \"))\n",
    "print(\"Correct!\")"
   ]
  },
  {
   "cell_type": "markdown",
   "metadata": {},
   "source": [
    "### 12"
   ]
  },
  {
   "cell_type": "code",
   "execution_count": 18,
   "metadata": {},
   "outputs": [
    {
     "name": "stdin",
     "output_type": "stream",
     "text": [
      "49 + 97 =  140\n",
      "Wrong. Try again: 49 + 97 =  150\n",
      "Wrong. Try again: 49 + 97 =  146\n"
     ]
    },
    {
     "name": "stdout",
     "output_type": "stream",
     "text": [
      "Correct in 3 tries!\n"
     ]
    }
   ],
   "source": [
    "# import random\n",
    "random.seed(0)\n",
    "\n",
    "a = random.randint(0,99)\n",
    "b = random.randint(0,99)\n",
    "\n",
    "answer = int(input(f\"{a} + {b} = \"))\n",
    "tries = 1\n",
    "while answer != a + b:\n",
    "    if tries == 5:\n",
    "        print(\"Nope! You need to study some more!\")\n",
    "        break\n",
    "    answer = int(input(f\"Wrong. Try again: {a} + {b} = \"))\n",
    "    tries += 1\n",
    "else:\n",
    "    print(f\"Correct in {tries} \" + (\"tries\" if tries > 1 else \"try\") + \"!\")"
   ]
  },
  {
   "cell_type": "markdown",
   "metadata": {},
   "source": [
    "### 13"
   ]
  },
  {
   "cell_type": "code",
   "execution_count": 27,
   "metadata": {},
   "outputs": [
    {
     "name": "stdout",
     "output_type": "stream",
     "text": [
      " Both heads: ***************************\n",
      " Both tails: ***********************\n",
      "One of each: **************************************************\n"
     ]
    }
   ],
   "source": [
    "import random\n",
    "random.seed(0)\n",
    "\n",
    "# collect data\n",
    "flips = 0\n",
    "both_heads = 0\n",
    "both_tails = 0\n",
    "one_each = 0\n",
    "while flips < 100:\n",
    "    h1 = random.randint(0,1)\n",
    "    h2 = random.randint(0,1)\n",
    "    \n",
    "    if h1 + h2 == 0:\n",
    "        both_heads += 1\n",
    "    elif h1 + h2 == 1:\n",
    "        one_each += 1\n",
    "    else:\n",
    "        both_tails += 1\n",
    "        \n",
    "    flips += 1\n",
    "\n",
    "# display data\n",
    "print(\" Both heads: \" + \"*\" * both_heads)\n",
    "print(\" Both tails: \" + \"*\" * both_tails)\n",
    "print(\"One of each: \" + \"*\" * one_each)"
   ]
  },
  {
   "cell_type": "markdown",
   "metadata": {},
   "source": [
    "### 14"
   ]
  },
  {
   "cell_type": "code",
   "execution_count": 37,
   "metadata": {},
   "outputs": [
    {
     "name": "stdout",
     "output_type": "stream",
     "text": [
      " Both heads: *****************\n",
      " Both tails: *****************\n",
      "One of each: **************************************\n"
     ]
    }
   ],
   "source": [
    "import random\n",
    "random.seed(0)\n",
    "\n",
    "flips = 0\n",
    "both_heads = 0\n",
    "both_tails = 0\n",
    "one_each = 0\n",
    "\n",
    "while flips < 100 or both_heads + both_tails - one_each > 0 or both_heads - both_tails > 0:\n",
    "    h1 = random.randint(0,1)\n",
    "    h2 = random.randint(0,1)\n",
    "    \n",
    "    if h1 + h2 == 0:\n",
    "        both_heads += 1\n",
    "    elif h1 + h2 == 1:\n",
    "        one_each += 1\n",
    "    else:\n",
    "        both_tails += 1\n",
    "        \n",
    "    flips += 1\n",
    "\n",
    "print(\" Both heads: \" + \"*\" * (both_heads // 5))\n",
    "print(\" Both tails: \" + \"*\" * (both_tails // 5))\n",
    "print(\"One of each: \" + \"*\" * (one_each // 5))"
   ]
  },
  {
   "cell_type": "code",
   "execution_count": null,
   "metadata": {},
   "outputs": [],
   "source": []
  }
 ],
 "metadata": {
  "kernelspec": {
   "display_name": "Python 3",
   "language": "python",
   "name": "python3"
  },
  "language_info": {
   "codemirror_mode": {
    "name": "ipython",
    "version": 3
   },
   "file_extension": ".py",
   "mimetype": "text/x-python",
   "name": "python",
   "nbconvert_exporter": "python",
   "pygments_lexer": "ipython3",
   "version": "3.7.7"
  }
 },
 "nbformat": 4,
 "nbformat_minor": 4
}
