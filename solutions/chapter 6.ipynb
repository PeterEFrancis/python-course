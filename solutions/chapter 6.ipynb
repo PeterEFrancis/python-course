{
 "cells": [
  {
   "cell_type": "markdown",
   "metadata": {},
   "source": [
    "# Solutions\n",
    "\n",
    "### `while` loops"
   ]
  },
  {
   "cell_type": "markdown",
   "metadata": {},
   "source": [
    "### 1"
   ]
  },
  {
   "cell_type": "code",
   "execution_count": 12,
   "metadata": {},
   "outputs": [
    {
     "name": "stdout",
     "output_type": "stream",
     "text": [
      "Roll: 2\n",
      "Roll: 5\n",
      "Roll: 5\n",
      "Roll: 2\n",
      "Roll: 3\n",
      "Roll: 5\n",
      "Turn total: 22\n"
     ]
    }
   ],
   "source": [
    "import random\n",
    "random.seed(3)\n",
    "\n",
    "roll = 0\n",
    "turn_total = 0\n",
    "while roll != 1 and turn_total < 20:\n",
    "    roll = random.randint(1,6)\n",
    "    print(f\"Roll: {roll}\")\n",
    "    if roll == 1:\n",
    "        turn_total = 0\n",
    "    else:\n",
    "        turn_total += roll\n",
    "print(f\"Turn total: {turn_total}\")"
   ]
  },
  {
   "cell_type": "markdown",
   "metadata": {},
   "source": [
    "### 2"
   ]
  },
  {
   "cell_type": "code",
   "execution_count": 25,
   "metadata": {},
   "outputs": [
    {
     "name": "stdin",
     "output_type": "stream",
     "text": [
      "Score?  3\n"
     ]
    },
    {
     "name": "stdout",
     "output_type": "stream",
     "text": [
      "Roll: 4\n",
      "Roll: 3\n",
      "Roll: 2\n",
      "Roll: 2\n",
      "Roll: 4\n",
      "Roll: 5\n",
      "Turn total: 20\n",
      "New Score: 23\n"
     ]
    }
   ],
   "source": [
    "import random\n",
    "random.seed(41)\n",
    "\n",
    "roll = 0\n",
    "turn_total = 0\n",
    "score = int(input(\"Score? \"))\n",
    "while roll != 1 and turn_total < 20 and turn_total + score < 100:\n",
    "    roll = random.randint(1,6)\n",
    "    print(f\"Roll: {roll}\")\n",
    "    if roll == 1:\n",
    "        turn_total = 0\n",
    "    else:\n",
    "        turn_total += roll\n",
    "print(f\"Turn total: {turn_total}\")\n",
    "print(f\"New Score: {score + turn_total}\")"
   ]
  },
  {
   "cell_type": "markdown",
   "metadata": {},
   "source": [
    "### 3"
   ]
  },
  {
   "cell_type": "code",
   "execution_count": 4,
   "metadata": {},
   "outputs": [
    {
     "name": "stdout",
     "output_type": "stream",
     "text": [
      "Roll: 2\n",
      "Roll: 5\n",
      "Roll: 1\n",
      "Turn total: 0\n",
      "New Score: 0\n",
      "Roll: 3\n",
      "Roll: 1\n",
      "Turn total: 0\n",
      "New Score: 0\n",
      "Roll: 4\n",
      "Roll: 4\n",
      "Roll: 4\n",
      "Roll: 6\n",
      "Roll: 4\n",
      "Turn total: 22\n",
      "New Score: 22\n",
      "Roll: 2\n",
      "Roll: 1\n",
      "Turn total: 0\n",
      "New Score: 22\n",
      "Roll: 4\n",
      "Roll: 1\n",
      "Turn total: 0\n",
      "New Score: 22\n",
      "Roll: 4\n",
      "Roll: 4\n",
      "Roll: 5\n",
      "Roll: 1\n",
      "Turn total: 0\n",
      "New Score: 22\n",
      "Roll: 6\n",
      "Roll: 4\n",
      "Roll: 3\n",
      "Roll: 6\n",
      "Roll: 2\n",
      "Turn total: 21\n",
      "New Score: 43\n",
      "Roll: 5\n",
      "Roll: 1\n",
      "Turn total: 0\n",
      "New Score: 43\n",
      "Roll: 3\n",
      "Roll: 1\n",
      "Turn total: 0\n",
      "New Score: 43\n",
      "Roll: 1\n",
      "Turn total: 0\n",
      "New Score: 43\n",
      "Roll: 1\n",
      "Turn total: 0\n",
      "New Score: 43\n",
      "Roll: 6\n",
      "Roll: 5\n",
      "Roll: 1\n",
      "Turn total: 0\n",
      "New Score: 43\n",
      "Roll: 4\n",
      "Roll: 6\n",
      "Roll: 2\n",
      "Roll: 4\n",
      "Roll: 6\n",
      "Turn total: 22\n",
      "New Score: 65\n",
      "Roll: 1\n",
      "Turn total: 0\n",
      "New Score: 65\n",
      "Roll: 5\n",
      "Roll: 2\n",
      "Roll: 4\n",
      "Roll: 4\n",
      "Roll: 5\n",
      "Turn total: 20\n",
      "New Score: 85\n",
      "Roll: 2\n",
      "Roll: 3\n",
      "Roll: 2\n",
      "Roll: 6\n",
      "Roll: 2\n",
      "Turn total: 15\n",
      "New Score: 100\n"
     ]
    }
   ],
   "source": [
    "import random\n",
    "random.seed(1)\n",
    "\n",
    "score = 0\n",
    "\n",
    "# repeat turn until the score is at most 100\n",
    "while score < 100:\n",
    "    # take a turn\n",
    "    roll = 0\n",
    "    turn_total = 0\n",
    "    while roll != 1 and turn_total < 20 and turn_total + score < 100:\n",
    "        roll = random.randint(1,6)\n",
    "        print(f\"Roll: {roll}\")\n",
    "        if roll == 1:\n",
    "            turn_total = 0\n",
    "        else:\n",
    "            turn_total += roll\n",
    "        \n",
    "    score += turn_total\n",
    "    \n",
    "    print(f\"Turn total: {turn_total}\")\n",
    "    print(f\"New Score: {score}\")"
   ]
  },
  {
   "cell_type": "markdown",
   "metadata": {},
   "source": [
    "### 4"
   ]
  },
  {
   "cell_type": "code",
   "execution_count": 4,
   "metadata": {},
   "outputs": [
    {
     "name": "stdin",
     "output_type": "stream",
     "text": [
      "Games?  1000\n"
     ]
    },
    {
     "name": "stdout",
     "output_type": "stream",
     "text": [
      "Average number of turns: 12.631\n"
     ]
    }
   ],
   "source": [
    "import random\n",
    "random.seed(1)\n",
    "\n",
    "num_games = int(input(\"Games? \"))\n",
    "\n",
    "avg_num_turns = 0\n",
    "\n",
    "game = 0\n",
    "while game < num_games:\n",
    "    \n",
    "    score = 0\n",
    "\n",
    "    num_turns = 0\n",
    "    while score < 100:\n",
    "        roll = 0\n",
    "        turn_total = 0\n",
    "        while roll != 1 and turn_total < 20 and turn_total + score < 100:\n",
    "            roll = random.randint(1,6)\n",
    "            if roll == 1:\n",
    "                turn_total = 0\n",
    "            else:\n",
    "                turn_total += roll\n",
    "        score += turn_total\n",
    "        num_turns += 1\n",
    "    avg_num_turns += num_turns    \n",
    "    game += 1\n",
    "    \n",
    "avg_num_turns /= num_games\n",
    "print(f\"Average number of turns: {avg_num_turns}\")"
   ]
  },
  {
   "cell_type": "markdown",
   "metadata": {},
   "source": [
    "### 5"
   ]
  },
  {
   "cell_type": "code",
   "execution_count": 38,
   "metadata": {},
   "outputs": [
    {
     "name": "stdout",
     "output_type": "stream",
     "text": [
      "Player 1 score: 0\n",
      "Player 2 score: 0\n",
      "It is Player 1's turn.\n",
      "Roll: 4\n",
      "Roll: 4\n",
      "Roll: 1\n",
      "Turn total: 0\n",
      "New Score: 0\n",
      "Player 1 score: 0\n",
      "Player 2 score: 0\n",
      "It is Player 2's turn.\n",
      "Roll: 3\n",
      "Roll: 5\n",
      "Roll: 4\n",
      "Roll: 4\n",
      "Roll: 3\n",
      "Roll: 4\n",
      "Turn total: 23\n",
      "New Score: 23\n",
      "Player 1 score: 0\n",
      "Player 2 score: 23\n",
      "It is Player 1's turn.\n",
      "Roll: 3\n",
      "Roll: 5\n",
      "Roll: 2\n",
      "Roll: 5\n",
      "Roll: 2\n",
      "Roll: 3\n",
      "Turn total: 20\n",
      "New Score: 20\n",
      "Player 1 score: 20\n",
      "Player 2 score: 23\n",
      "It is Player 2's turn.\n",
      "Roll: 2\n",
      "Roll: 1\n",
      "Turn total: 0\n",
      "New Score: 23\n",
      "Player 1 score: 20\n",
      "Player 2 score: 23\n",
      "It is Player 1's turn.\n",
      "Roll: 5\n",
      "Roll: 3\n",
      "Roll: 5\n",
      "Roll: 6\n",
      "Roll: 5\n",
      "Turn total: 24\n",
      "New Score: 44\n",
      "Player 1 score: 44\n",
      "Player 2 score: 23\n",
      "It is Player 2's turn.\n",
      "Roll: 2\n",
      "Roll: 3\n",
      "Roll: 1\n",
      "Turn total: 0\n",
      "New Score: 23\n",
      "Player 1 score: 44\n",
      "Player 2 score: 23\n",
      "It is Player 1's turn.\n",
      "Roll: 6\n",
      "Roll: 1\n",
      "Turn total: 0\n",
      "New Score: 44\n",
      "Player 1 score: 44\n",
      "Player 2 score: 23\n",
      "It is Player 2's turn.\n",
      "Roll: 6\n",
      "Roll: 3\n",
      "Roll: 4\n",
      "Roll: 5\n",
      "Roll: 1\n",
      "Turn total: 0\n",
      "New Score: 23\n",
      "Player 1 score: 44\n",
      "Player 2 score: 23\n",
      "It is Player 1's turn.\n",
      "Roll: 3\n",
      "Roll: 4\n",
      "Roll: 3\n",
      "Roll: 5\n",
      "Roll: 6\n",
      "Turn total: 21\n",
      "New Score: 65\n",
      "Player 1 score: 65\n",
      "Player 2 score: 23\n",
      "It is Player 2's turn.\n",
      "Roll: 2\n",
      "Roll: 5\n",
      "Roll: 4\n",
      "Roll: 4\n",
      "Roll: 5\n",
      "Turn total: 20\n",
      "New Score: 43\n",
      "Player 1 score: 65\n",
      "Player 2 score: 43\n",
      "It is Player 1's turn.\n",
      "Roll: 3\n",
      "Roll: 1\n",
      "Turn total: 0\n",
      "New Score: 65\n",
      "Player 1 score: 65\n",
      "Player 2 score: 43\n",
      "It is Player 2's turn.\n",
      "Roll: 5\n",
      "Roll: 1\n",
      "Turn total: 0\n",
      "New Score: 43\n",
      "Player 1 score: 65\n",
      "Player 2 score: 43\n",
      "It is Player 1's turn.\n",
      "Roll: 1\n",
      "Turn total: 0\n",
      "New Score: 65\n",
      "Player 1 score: 65\n",
      "Player 2 score: 43\n",
      "It is Player 2's turn.\n",
      "Roll: 6\n",
      "Roll: 4\n",
      "Roll: 6\n",
      "Roll: 6\n",
      "Turn total: 22\n",
      "New Score: 65\n",
      "Player 1 score: 65\n",
      "Player 2 score: 65\n",
      "It is Player 1's turn.\n",
      "Roll: 6\n",
      "Roll: 1\n",
      "Turn total: 0\n",
      "New Score: 65\n",
      "Player 1 score: 65\n",
      "Player 2 score: 65\n",
      "It is Player 2's turn.\n",
      "Roll: 5\n",
      "Roll: 4\n",
      "Roll: 3\n",
      "Roll: 2\n",
      "Roll: 6\n",
      "Turn total: 20\n",
      "New Score: 85\n",
      "Player 1 score: 65\n",
      "Player 2 score: 85\n",
      "It is Player 1's turn.\n",
      "Roll: 3\n",
      "Roll: 6\n",
      "Roll: 1\n",
      "Turn total: 0\n",
      "New Score: 65\n",
      "Player 1 score: 65\n",
      "Player 2 score: 85\n",
      "It is Player 2's turn.\n",
      "Roll: 2\n",
      "Roll: 5\n",
      "Roll: 2\n",
      "Roll: 2\n",
      "Roll: 2\n",
      "Roll: 5\n",
      "Turn total: 18\n",
      "New Score: 103\n",
      "Player 2 wins!\n"
     ]
    }
   ],
   "source": [
    "import random\n",
    "random.seed(0)\n",
    "\n",
    "score1 = 0\n",
    "score2 = 0\n",
    "\n",
    "current_player = 1\n",
    "\n",
    "# repeat turn until the score is at most 100\n",
    "while score1 < 100 and score2 < 100:\n",
    "    \n",
    "    # print scores\n",
    "    print(f\"Player 1 score: {score1}\")\n",
    "    print(f\"Player 2 score: {score2}\")\n",
    "    \n",
    "    print(f\"It is Player {current_player}'s turn.\")\n",
    "    \n",
    "    # set score depending on the current player\n",
    "    score = score1 if current_player == 1 else score2\n",
    "    \n",
    "    roll = 0\n",
    "    turn_total = 0\n",
    "    while roll != 1 and turn_total < 20 and turn_total + score < 100:\n",
    "        roll = random.randint(1,6)\n",
    "        print(f\"Roll: {roll}\")\n",
    "        if roll == 1:\n",
    "            turn_total = 0\n",
    "        else:\n",
    "            turn_total += roll\n",
    "    \n",
    "    print(f\"Turn total: {turn_total}\")\n",
    "    print(f\"New Score: {score + turn_total}\")\n",
    "    \n",
    "    if current_player == 1:\n",
    "        score1 += turn_total\n",
    "    else:\n",
    "        score2 += turn_total\n",
    "    \n",
    "    # switch player\n",
    "    current_player = 3 - current_player\n",
    "\n",
    "print(f\"Player {3 - current_player} wins!\")"
   ]
  },
  {
   "cell_type": "markdown",
   "metadata": {},
   "source": [
    "### 6"
   ]
  },
  {
   "cell_type": "code",
   "execution_count": 6,
   "metadata": {},
   "outputs": [
    {
     "name": "stdin",
     "output_type": "stream",
     "text": [
      "Games?  10000\n"
     ]
    },
    {
     "name": "stdout",
     "output_type": "stream",
     "text": [
      "Probability of first player win: 0.5332\n"
     ]
    }
   ],
   "source": [
    "import random\n",
    "random.seed(0)\n",
    "\n",
    "num_games = int(input(\"Games? \"))\n",
    "\n",
    "first_player_win_count = 0\n",
    "\n",
    "game = 0\n",
    "while game < num_games:\n",
    "    score1 = 0\n",
    "    score2 = 0\n",
    "    current_player = 1\n",
    "    while score1 < 100 and score2 < 100:\n",
    "        score = score1 if current_player == 1 else score2\n",
    "        roll = 0\n",
    "        turn_total = 0\n",
    "        while roll != 1 and turn_total < 20 and turn_total + score < 100:\n",
    "            roll = random.randint(1,6)\n",
    "            if roll == 1:\n",
    "                turn_total = 0\n",
    "            else:\n",
    "                turn_total += roll\n",
    "        if current_player == 1:\n",
    "            score1 += turn_total\n",
    "        else:\n",
    "            score2 += turn_total\n",
    "        current_player = 3 - current_player\n",
    "    winner = 3 - current_player\n",
    "    if winner == 1:\n",
    "        first_player_win_count += 1\n",
    "    game += 1\n",
    "    \n",
    "print(f\"Probability of first player win: {first_player_win_count/num_games}\")"
   ]
  },
  {
   "cell_type": "markdown",
   "metadata": {},
   "source": [
    "### 7"
   ]
  },
  {
   "cell_type": "code",
   "execution_count": 7,
   "metadata": {},
   "outputs": [
    {
     "name": "stdin",
     "output_type": "stream",
     "text": [
      "Integer a?  504\n",
      "Integer b?  2226\n"
     ]
    },
    {
     "name": "stdout",
     "output_type": "stream",
     "text": [
      "Greatst Common divisor of a and b: 42\n"
     ]
    }
   ],
   "source": [
    "a = int(input(\"Integer a? \"))\n",
    "b = int(input(\"Integer b? \"))\n",
    "\n",
    "while b != 0:\n",
    "    a_prime = b\n",
    "    b_prime = a % b\n",
    "    a = a_prime\n",
    "    b = b_prime\n",
    "\n",
    "print(f\"Greatst Common divisor of a and b: {a}\")"
   ]
  },
  {
   "cell_type": "markdown",
   "metadata": {},
   "source": [
    "### 8"
   ]
  },
  {
   "cell_type": "code",
   "execution_count": 45,
   "metadata": {},
   "outputs": [
    {
     "name": "stdin",
     "output_type": "stream",
     "text": [
      "Enter an integer:  3\n"
     ]
    },
    {
     "name": "stdout",
     "output_type": "stream",
     "text": [
      "3\n"
     ]
    }
   ],
   "source": [
    "i = int(input(\"Enter an integer: \"))\n",
    "\n",
    "first = True\n",
    "while first or i < 3:\n",
    "    first = False\n",
    "    print(i)\n",
    "    i += 1"
   ]
  },
  {
   "cell_type": "code",
   "execution_count": null,
   "metadata": {},
   "outputs": [],
   "source": []
  }
 ],
 "metadata": {
  "kernelspec": {
   "display_name": "Python 3",
   "language": "python",
   "name": "python3"
  },
  "language_info": {
   "codemirror_mode": {
    "name": "ipython",
    "version": 3
   },
   "file_extension": ".py",
   "mimetype": "text/x-python",
   "name": "python",
   "nbconvert_exporter": "python",
   "pygments_lexer": "ipython3",
   "version": "3.7.7"
  }
 },
 "nbformat": 4,
 "nbformat_minor": 4
}
