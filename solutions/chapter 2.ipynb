{
 "cells": [
  {
   "cell_type": "markdown",
   "metadata": {},
   "source": [
    "# Solutions\n",
    "### Chapter 2: types, variables, and operations "
   ]
  },
  {
   "cell_type": "markdown",
   "metadata": {},
   "source": [
    "### 1"
   ]
  },
  {
   "cell_type": "code",
   "execution_count": null,
   "metadata": {},
   "outputs": [],
   "source": [
    "(15 + 25 + 30 - 7) ** 3 - (6478 % 267)"
   ]
  },
  {
   "cell_type": "code",
   "execution_count": null,
   "metadata": {},
   "outputs": [],
   "source": [
    "(34567) ** (1/5)"
   ]
  },
  {
   "cell_type": "raw",
   "metadata": {},
   "source": [
    "2**345678"
   ]
  },
  {
   "cell_type": "markdown",
   "metadata": {},
   "source": [
    "### 2"
   ]
  },
  {
   "cell_type": "code",
   "execution_count": null,
   "metadata": {},
   "outputs": [],
   "source": [
    "a = 3 + 4j\n",
    "(a * a.conjugate()) ** (1/2)"
   ]
  },
  {
   "cell_type": "markdown",
   "metadata": {},
   "source": [
    "### 5"
   ]
  },
  {
   "cell_type": "raw",
   "metadata": {},
   "source": [
    "P = (not x) and (not y)\n",
    "Q = not (x or y)"
   ]
  },
  {
   "cell_type": "markdown",
   "metadata": {},
   "source": [
    "### 7"
   ]
  },
  {
   "cell_type": "code",
   "execution_count": null,
   "metadata": {},
   "outputs": [],
   "source": [
    "f = -40\n",
    "c = (f - 32) * (5 / 9)\n",
    "c"
   ]
  },
  {
   "cell_type": "code",
   "execution_count": 5,
   "metadata": {},
   "outputs": [],
   "source": [
    "c = 45\n",
    "f = c * (9 / 5) + 32\n",
    "f"
   ]
  },
  {
   "cell_type": "markdown",
   "metadata": {},
   "source": [
    "As can be seen above, -40 degreed Fahrenheit and 40 degrees Celsius are the same tempurature."
   ]
  },
  {
   "cell_type": "markdown",
   "metadata": {},
   "source": [
    "### 8"
   ]
  },
  {
   "cell_type": "code",
   "execution_count": 6,
   "metadata": {},
   "outputs": [
    {
     "name": "stdout",
     "output_type": "stream",
     "text": [
      "12.566370614359172\n",
      "3.141592653589793\n"
     ]
    }
   ],
   "source": [
    "radius = 1\n",
    "height = 1\n",
    "\n",
    "from math import pi\n",
    "\n",
    "surface_area = 2 * pi * radius * (radius + height)\n",
    "volume = pi * radius**2 * height\n",
    "\n",
    "print(surface_area)\n",
    "print(volume)"
   ]
  },
  {
   "cell_type": "markdown",
   "metadata": {},
   "source": [
    "### 9"
   ]
  },
  {
   "cell_type": "code",
   "execution_count": 7,
   "metadata": {},
   "outputs": [
    {
     "name": "stdout",
     "output_type": "stream",
     "text": [
      "56.58\n"
     ]
    }
   ],
   "source": [
    "subtotal = 123\n",
    "gratuity_rate = 0.46\n",
    "\n",
    "tip = int(gratuity_rate * subtotal * 100) / 100\n",
    "\n",
    "print(tip)"
   ]
  },
  {
   "cell_type": "markdown",
   "metadata": {},
   "source": [
    "### 10"
   ]
  },
  {
   "cell_type": "code",
   "execution_count": 8,
   "metadata": {},
   "outputs": [
    {
     "data": {
      "text/plain": [
       "605.62"
      ]
     },
     "execution_count": 8,
     "metadata": {},
     "output_type": "execute_result"
    }
   ],
   "source": [
    "deposit = 100\n",
    "rate = 0.032\n",
    "\n",
    "after_one_month = deposit * (1 + (rate / 12))\n",
    "after_two_month = (deposit + after_one_month) * (1 + (rate / 12))\n",
    "after_three_month = (deposit + after_two_month) * (1 + (rate / 12))\n",
    "after_four_month = (deposit + after_three_month) * (1 + (rate / 12))\n",
    "after_five_month = (deposit + after_four_month) * (1 + (rate / 12))\n",
    "after_six_month = (deposit + after_five_month) * (1 + (rate / 12))\n",
    "int(after_six_month * 100) / 100"
   ]
  },
  {
   "cell_type": "markdown",
   "metadata": {},
   "source": [
    "### 11"
   ]
  },
  {
   "cell_type": "code",
   "execution_count": 9,
   "metadata": {},
   "outputs": [
    {
     "name": "stdout",
     "output_type": "stream",
     "text": [
      "60\n",
      "25.980762113533167\n"
     ]
    }
   ],
   "source": [
    "num_sides = 6\n",
    "side_length = 10 \n",
    "\n",
    "from math import tan, pi\n",
    "perimeter = num_sides * side_length\n",
    "apothem = side_length / (2 * tan(pi/num_sides))\n",
    "area = num_sides * apothem / 2\n",
    "\n",
    "print(perimeter)\n",
    "print(area)"
   ]
  },
  {
   "cell_type": "markdown",
   "metadata": {},
   "source": [
    "### 12"
   ]
  },
  {
   "cell_type": "code",
   "execution_count": 10,
   "metadata": {},
   "outputs": [
    {
     "name": "stdout",
     "output_type": "stream",
     "text": [
      "2\n",
      "1\n"
     ]
    }
   ],
   "source": [
    "a = 2\n",
    "b = 5\n",
    "\n",
    "bigger = max(a,b)\n",
    "smaller = min(a,b)\n",
    "\n",
    "print(bigger // smaller)\n",
    "print(bigger % smaller)"
   ]
  },
  {
   "cell_type": "markdown",
   "metadata": {},
   "source": [
    "### 13"
   ]
  },
  {
   "cell_type": "code",
   "execution_count": 11,
   "metadata": {},
   "outputs": [
    {
     "name": "stdout",
     "output_type": "stream",
     "text": [
      "False\n",
      "True\n",
      "False\n",
      "False\n",
      "True\n",
      "True\n"
     ]
    }
   ],
   "source": [
    "a = 3.7\n",
    "\n",
    "from math import *\n",
    "\n",
    "print(int(a) == round(a))\n",
    "print(int(a) == floor(a))\n",
    "print(int(a) == ceil(a))\n",
    "print(round(a) == floor(a))\n",
    "print(round(a) == ceil(a))\n",
    "print(round(a) == ceil(a))"
   ]
  },
  {
   "cell_type": "markdown",
   "metadata": {},
   "source": [
    "If `a` is not an integer, rounding will be equal to either ceiling or flooring. This means to show a difference between ceiling and rounding, and flooring and rounding, we have to show at least 2 runs. Setting `a = 3.7` and `a = -3.7` will accomplish this. "
   ]
  },
  {
   "cell_type": "code",
   "execution_count": null,
   "metadata": {},
   "outputs": [],
   "source": []
  }
 ],
 "metadata": {
  "kernelspec": {
   "display_name": "Python 3",
   "language": "python",
   "name": "python3"
  },
  "language_info": {
   "codemirror_mode": {
    "name": "ipython",
    "version": 3
   },
   "file_extension": ".py",
   "mimetype": "text/x-python",
   "name": "python",
   "nbconvert_exporter": "python",
   "pygments_lexer": "ipython3",
   "version": "3.7.7"
  }
 },
 "nbformat": 4,
 "nbformat_minor": 4
}
