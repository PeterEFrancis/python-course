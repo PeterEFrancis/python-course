{
 "cells": [
  {
   "cell_type": "markdown",
   "metadata": {},
   "source": [
    "# Solutions\n",
    "\n",
    "### Chapter 8: `for` loops"
   ]
  },
  {
   "cell_type": "markdown",
   "metadata": {},
   "source": [
    "### 1"
   ]
  },
  {
   "cell_type": "code",
   "execution_count": 30,
   "metadata": {},
   "outputs": [
    {
     "name": "stdin",
     "output_type": "stream",
     "text": [
      "Enter an integer: 0\n"
     ]
    },
    {
     "name": "stdout",
     "output_type": "stream",
     "text": [
      "Positive divisors: []\n"
     ]
    }
   ],
   "source": [
    "n = int(input(\"Enter an integer:\"))\n",
    "\n",
    "div = []\n",
    "\n",
    "for i in range(1, abs(n) + 1):\n",
    "    if n % i == 0:\n",
    "        div.append(i)\n",
    "\n",
    "print(\"Positive divisors:\", div)"
   ]
  },
  {
   "cell_type": "markdown",
   "metadata": {},
   "source": [
    "### 2"
   ]
  },
  {
   "cell_type": "code",
   "execution_count": 29,
   "metadata": {},
   "outputs": [
    {
     "name": "stdin",
     "output_type": "stream",
     "text": [
      "Enter an integer: 0\n"
     ]
    },
    {
     "name": "stdout",
     "output_type": "stream",
     "text": [
      "0 is not prime\n"
     ]
    }
   ],
   "source": [
    "n = int(input(\"Enter an integer:\"))\n",
    "\n",
    "if abs(n) == 0 or abs(n) == 1:\n",
    "    print(f\"{n} is not prime\")\n",
    "else:\n",
    "    for i in range(2, abs(n)):\n",
    "        if n % i == 0:\n",
    "            print(f\"{n} is not prime\")\n",
    "            break\n",
    "    else:\n",
    "        print(f\"{n} is prime\")"
   ]
  },
  {
   "cell_type": "markdown",
   "metadata": {},
   "source": [
    "### 3"
   ]
  },
  {
   "cell_type": "code",
   "execution_count": 32,
   "metadata": {},
   "outputs": [
    {
     "name": "stdout",
     "output_type": "stream",
     "text": [
      "[1, 2, 3, 4, 5, 6]\n"
     ]
    }
   ],
   "source": [
    "a = [1, 1, 1, 2, 2, 3, 4, 5, 6]\n",
    "\n",
    "b = []\n",
    "for el in a:\n",
    "    if el not in b:\n",
    "        b.append(el)\n",
    "\n",
    "print(b)"
   ]
  },
  {
   "cell_type": "markdown",
   "metadata": {},
   "source": [
    "### 4"
   ]
  },
  {
   "cell_type": "code",
   "execution_count": 36,
   "metadata": {},
   "outputs": [
    {
     "name": "stdout",
     "output_type": "stream",
     "text": [
      "max: 9\n",
      "min: 1\n",
      "sum: 45\n",
      "prod: 362880\n"
     ]
    }
   ],
   "source": [
    "a = [1, 2, 3, 4, 5, 6, 7, 8, 9]\n",
    "\n",
    "myMin = 9e99\n",
    "myMax = -9e99\n",
    "mySum = 0\n",
    "myProd = 1\n",
    "\n",
    "for el in a:\n",
    "    if el < myMin:\n",
    "        myMin = el\n",
    "    if el > myMax:\n",
    "        myMax = el\n",
    "    mySum += el\n",
    "    myProd *= el\n",
    "\n",
    "print(\"max:\", myMax)\n",
    "print(\"min:\", myMin)\n",
    "print(\"sum:\", mySum)\n",
    "print(\"prod:\", myProd)"
   ]
  },
  {
   "cell_type": "markdown",
   "metadata": {},
   "source": [
    "### 5"
   ]
  },
  {
   "cell_type": "code",
   "execution_count": 57,
   "metadata": {},
   "outputs": [
    {
     "name": "stdin",
     "output_type": "stream",
     "text": [
      "Enter a string: race\n"
     ]
    },
    {
     "name": "stdout",
     "output_type": "stream",
     "text": [
      "'race' not a palindrome but 'racecar' is\n"
     ]
    }
   ],
   "source": [
    "s = input(\"Enter a string:\")\n",
    "\n",
    "rev = s[::-1]\n",
    "for c1, c2 in zip(string, rev):\n",
    "    if c1 != c2:\n",
    "        pal = s[:-1] + (\"\" if s[-1] == rev[0] else s[-1]) + rev\n",
    "        print(f\"'{s}' not a palindrome but '{pal}' is\")\n",
    "        break\n",
    "else:\n",
    "    print(f\"'{s}' is a palindrome\")"
   ]
  },
  {
   "cell_type": "markdown",
   "metadata": {},
   "source": [
    "### 6"
   ]
  },
  {
   "cell_type": "code",
   "execution_count": 31,
   "metadata": {},
   "outputs": [
    {
     "name": "stdin",
     "output_type": "stream",
     "text": [
      "Enter an odd positive integer at least 3: 5\n"
     ]
    },
    {
     "name": "stdout",
     "output_type": "stream",
     "text": [
      "11  18  25  2   9  \n",
      "10  12  19  21  3  \n",
      "4   6   13  20  22 \n",
      "23  5   7   14  16 \n",
      "17  24  1   8   15 \n"
     ]
    }
   ],
   "source": [
    "n = int(input(\"Enter an odd positive integer at least 3:\"))\n",
    "\n",
    "# create n x n zero array\n",
    "square = [[0]*n for _ in range(n)]\n",
    "\n",
    "# current position is bottom center\n",
    "row = n - 1\n",
    "col = n // 2\n",
    "\n",
    "# loop through all of the numbers that need to be placed\n",
    "for i in range(1, n**2 + 1):\n",
    "    square[row][col] = i\n",
    "    if square[(row + 1) % n][(col + 1) % n] == 0:\n",
    "        row = (row + 1) % n\n",
    "        col = (col + 1) % n\n",
    "    else:\n",
    "        row = (row - 1) % n\n",
    "\n",
    "# print the square\n",
    "max_w = len(str(n**2))\n",
    "for row in square:\n",
    "    # create list of formatted strings\n",
    "    f_row = [str(el) + \" \" * (max_w + 1 - len(str(el))) for el in row]\n",
    "    print(*f_row)"
   ]
  },
  {
   "cell_type": "code",
   "execution_count": null,
   "metadata": {},
   "outputs": [],
   "source": []
  }
 ],
 "metadata": {
  "kernelspec": {
   "display_name": "Python 3",
   "language": "python",
   "name": "python3"
  },
  "language_info": {
   "codemirror_mode": {
    "name": "ipython",
    "version": 3
   },
   "file_extension": ".py",
   "mimetype": "text/x-python",
   "name": "python",
   "nbconvert_exporter": "python",
   "pygments_lexer": "ipython3",
   "version": "3.7.7"
  }
 },
 "nbformat": 4,
 "nbformat_minor": 4
}
