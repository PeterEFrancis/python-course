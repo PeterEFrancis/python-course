{
 "cells": [
  {
   "cell_type": "markdown",
   "metadata": {},
   "source": [
    "# Tic Tac Toe"
   ]
  },
  {
   "cell_type": "code",
   "execution_count": 7,
   "metadata": {},
   "outputs": [],
   "source": [
    "NONE = 0\n",
    "X = 1\n",
    "O = 2\n",
    "TIE = 3\n",
    "UNFINISHED = 4\n",
    "\n",
    "GROUPS = [[0,1,2],[3,4,5],[6,7,8],\n",
    "          [0,3,6],[1,4,7],[2,5,8],\n",
    "          [2,4,6],[0,4,8]]"
   ]
  },
  {
   "cell_type": "code",
   "execution_count": 16,
   "metadata": {},
   "outputs": [],
   "source": [
    "def get_game_state(board): # board is a one dimmensional array\n",
    "    \"\"\"\n",
    "    board representation:\n",
    "        0 1 2\n",
    "        3 4 5\n",
    "        6 7 8\n",
    "    \"\"\"\n",
    "    # loop through GROUPS to find three in a row\n",
    "        # if one is found, return the value of any of the three-in-a-row entries\n",
    "    # If no t-i-a-r is found\n",
    "        # are there NONEs?\n",
    "            # yes -> return UNFINISHED\n",
    "            # no -> return TIE\n",
    "    \n",
    "    for group in GROUPS:\n",
    "        values = [board[i] for i in group]\n",
    "        uniques = []\n",
    "        for val in values:\n",
    "            if val not in uniques:\n",
    "                uniques.append(val)\n",
    "        if len(uniques) == 1 and uniques[0] != NONE:\n",
    "            return uniques[0]\n",
    "    \n",
    "    return UNFINISHED if NONE in board else TIE"
   ]
  },
  {
   "cell_type": "code",
   "execution_count": 22,
   "metadata": {},
   "outputs": [
    {
     "name": "stdout",
     "output_type": "stream",
     "text": [
      "\n",
      " 0 | 1 | 2\n",
      "---+---+---\n",
      " 3 | 4 | 5\n",
      "---+---+---\n",
      " 6 | 7 | 8\n",
      "\n",
      "current player: X\n"
     ]
    },
    {
     "name": "stdin",
     "output_type": "stream",
     "text": [
      "Enter play: 0\n"
     ]
    },
    {
     "name": "stdout",
     "output_type": "stream",
     "text": [
      "\n",
      " X | 1 | 2\n",
      "---+---+---\n",
      " 3 | 4 | 5\n",
      "---+---+---\n",
      " 6 | 7 | 8\n",
      "\n",
      "current player: O\n"
     ]
    },
    {
     "name": "stdin",
     "output_type": "stream",
     "text": [
      "Enter play: 7\n"
     ]
    },
    {
     "name": "stdout",
     "output_type": "stream",
     "text": [
      "\n",
      " X | 1 | 2\n",
      "---+---+---\n",
      " 3 | 4 | 5\n",
      "---+---+---\n",
      " 6 | O | 8\n",
      "\n",
      "current player: X\n"
     ]
    },
    {
     "name": "stdin",
     "output_type": "stream",
     "text": [
      "Enter play: 1\n"
     ]
    },
    {
     "name": "stdout",
     "output_type": "stream",
     "text": [
      "\n",
      " X | X | 2\n",
      "---+---+---\n",
      " 3 | 4 | 5\n",
      "---+---+---\n",
      " 6 | O | 8\n",
      "\n",
      "current player: O\n"
     ]
    },
    {
     "name": "stdin",
     "output_type": "stream",
     "text": [
      "Enter play: 2\n"
     ]
    },
    {
     "name": "stdout",
     "output_type": "stream",
     "text": [
      "\n",
      " X | X | O\n",
      "---+---+---\n",
      " 3 | 4 | 5\n",
      "---+---+---\n",
      " 6 | O | 8\n",
      "\n",
      "current player: X\n"
     ]
    },
    {
     "name": "stdin",
     "output_type": "stream",
     "text": [
      "Enter play: 3\n"
     ]
    },
    {
     "name": "stdout",
     "output_type": "stream",
     "text": [
      "\n",
      " X | X | O\n",
      "---+---+---\n",
      " X | 4 | 5\n",
      "---+---+---\n",
      " 6 | O | 8\n",
      "\n",
      "current player: O\n"
     ]
    },
    {
     "name": "stdin",
     "output_type": "stream",
     "text": [
      "Enter play: 4\n"
     ]
    },
    {
     "name": "stdout",
     "output_type": "stream",
     "text": [
      "\n",
      " X | X | O\n",
      "---+---+---\n",
      " X | O | 5\n",
      "---+---+---\n",
      " 6 | O | 8\n",
      "\n",
      "current player: X\n"
     ]
    },
    {
     "name": "stdin",
     "output_type": "stream",
     "text": [
      "Enter play: 6\n"
     ]
    },
    {
     "name": "stdout",
     "output_type": "stream",
     "text": [
      "Winner: X\n"
     ]
    }
   ],
   "source": [
    "b = [0] * 9\n",
    "game_state = UNFINISHED\n",
    "current_player = X\n",
    "\n",
    "while game_state == UNFINISHED:\n",
    "    # print the board\n",
    "    print()\n",
    "    for i in range(3):\n",
    "        print(\" \" + \" | \".join([str(i*3+j) if b[i * 3 + j] == NONE else [\"X\", \"O\"][b[i * 3 + j] - 1] for j in range(3)]))\n",
    "        if i < 2:\n",
    "            print(\"---+---+---\")\n",
    "    print()\n",
    "    \n",
    "    # ask for play\n",
    "    print(\"current player:\", [\"X\", \"O\"][current_player - 1])\n",
    "    response = int(input(\"Enter play:\"))\n",
    "    while response not in list(range(9)) or b[response] != NONE:\n",
    "        print(\"Invalid reponse, try again\")\n",
    "        response = int(input(\"Enter play:\"))\n",
    "        \n",
    "    # make the play\n",
    "    b[response] = current_player\n",
    "    \n",
    "    # change players\n",
    "    current_player = X + O - current_player\n",
    "    \n",
    "    # update game_state    \n",
    "    game_state = get_game_state(b)\n",
    "    \n",
    "print(\"\\nWinner:\", [\"X\", \"O\", \"TIE\"][game_state - 1])"
   ]
  }
 ],
 "metadata": {
  "kernelspec": {
   "display_name": "Python 3",
   "language": "python",
   "name": "python3"
  },
  "language_info": {
   "codemirror_mode": {
    "name": "ipython",
    "version": 3
   },
   "file_extension": ".py",
   "mimetype": "text/x-python",
   "name": "python",
   "nbconvert_exporter": "python",
   "pygments_lexer": "ipython3",
   "version": "3.7.7"
  }
 },
 "nbformat": 4,
 "nbformat_minor": 4
}
