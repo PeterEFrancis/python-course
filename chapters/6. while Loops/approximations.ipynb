{
 "cells": [
  {
   "cell_type": "markdown",
   "metadata": {},
   "source": [
    "# Appoximations\n",
    "\n",
    "Modify the approximations below to ask for a percision to which to calculate the constants. You can assume that the input is an integer less than 14, or you can use the [decimal](https://docs.python.org/3/library/decimal.html) package."
   ]
  },
  {
   "cell_type": "markdown",
   "metadata": {},
   "source": [
    "# 1. pi\n",
    "https://en.wikipedia.org/wiki/Approximations_of_%CF%80"
   ]
  },
  {
   "cell_type": "markdown",
   "metadata": {},
   "source": [
    "### Newton/Euler\n",
    "\n",
    "### $$\\pi=2\\sum_{k=0}^\\infty\\frac{2^kk!^2}{(2k+1)!}$$"
   ]
  },
  {
   "cell_type": "code",
   "execution_count": 2,
   "metadata": {},
   "outputs": [
    {
     "name": "stdout",
     "output_type": "stream",
     "text": [
      "3.1415926535897922\n",
      "3.141592653589793\n"
     ]
    }
   ],
   "source": [
    "import math\n",
    "\n",
    "pi = 0\n",
    "k = 0\n",
    "while k < 100:\n",
    "    pi += 2 * (2**k * math.factorial(k)**2) / math.factorial(2 * k + 1)\n",
    "    k += 1\n",
    "print(pi)\n",
    "print(math.pi)"
   ]
  },
  {
   "cell_type": "markdown",
   "metadata": {},
   "source": [
    "### Madhava\n",
    "\n",
    "### $$\\pi=\\sqrt{12}\\sum_{k=0}^\\infty\\frac{(-3)^{-k}}{2k+1}$$"
   ]
  },
  {
   "cell_type": "code",
   "execution_count": 3,
   "metadata": {},
   "outputs": [
    {
     "name": "stdout",
     "output_type": "stream",
     "text": [
      "3.1415926535897936\n",
      "3.141592653589793\n"
     ]
    }
   ],
   "source": [
    "import math\n",
    "\n",
    "pi = 0\n",
    "k = 0\n",
    "while k < 100:\n",
    "    pi += math.sqrt(12) * ((-3)**(-k)) / (2 * k + 1)\n",
    "    k += 1\n",
    "print(pi)\n",
    "print(math.pi)"
   ]
  },
  {
   "cell_type": "markdown",
   "metadata": {},
   "source": [
    "### Ramanujan\n",
    "\n",
    "### $$\\frac{1}{\\pi}=\\frac{2\\sqrt{2}}{9801}\\sum_{k=0}^\\infty\\frac{(4k)!(1103+26390k)}{(k!)^4396^{4k}}$$"
   ]
  },
  {
   "cell_type": "code",
   "execution_count": 4,
   "metadata": {},
   "outputs": [
    {
     "name": "stdout",
     "output_type": "stream",
     "text": [
      "3.141592653589793\n",
      "3.141592653589793\n"
     ]
    }
   ],
   "source": [
    "import math\n",
    "\n",
    "one_over_pi = 0\n",
    "k = 0\n",
    "while k < 100:\n",
    "    num = math.factorial(4 * k) * (1103 + 26390 * k)\n",
    "    den = math.factorial(k)**4 * 396**(4*k)\n",
    "    one_over_pi += (2 * math.sqrt(2) / 9801) * (num / den)\n",
    "    k += 1\n",
    "print(1 / one_over_pi)\n",
    "print(math.pi)"
   ]
  },
  {
   "cell_type": "markdown",
   "metadata": {},
   "source": [
    "# 2. e\n",
    "https://en.wikipedia.org/wiki/E_(mathematical_constant)\n",
    "\n",
    "### $$e=\\sum_{n=0}^{\\infty}\\frac{1}{n!}$$"
   ]
  },
  {
   "cell_type": "code",
   "execution_count": 5,
   "metadata": {},
   "outputs": [
    {
     "name": "stdout",
     "output_type": "stream",
     "text": [
      "2.7182818284590455\n"
     ]
    }
   ],
   "source": [
    "import math\n",
    "\n",
    "e = 0\n",
    "n = 0\n",
    "while n < 100:\n",
    "    e += 1 / math.factorial(n)\n",
    "    n += 1\n",
    "print(e)"
   ]
  },
  {
   "cell_type": "markdown",
   "metadata": {},
   "source": [
    "# 3. Continued Fractions\n",
    "\n",
    "### $$a_0 + \\frac{1}{a_1 + \\frac{1}{a_2 + \\frac{1}{a_3 + \\frac{1}{a_4 + \\frac{1}{\\dots}}}}}$$"
   ]
  },
  {
   "cell_type": "markdown",
   "metadata": {},
   "source": [
    "### $a_i = 1$"
   ]
  },
  {
   "cell_type": "code",
   "execution_count": 6,
   "metadata": {},
   "outputs": [
    {
     "name": "stdout",
     "output_type": "stream",
     "text": [
      "1.618033988749895\n"
     ]
    }
   ],
   "source": [
    "frac = 1\n",
    "i = 0\n",
    "while i < 100:\n",
    "    frac = 1 + (1/frac)\n",
    "    i += 1\n",
    "print(frac)"
   ]
  },
  {
   "cell_type": "markdown",
   "metadata": {},
   "source": [
    "When $a_1=1$, the continued fraction is equal to $\\phi$, the golden ratio! Write $x$ for the fraction. Then\n",
    "\n",
    "$$x = 1 + \\frac{1}{x} \\implies x^2-x-1=0 \\implies x=\\frac{1+\\sqrt{1-(4)(-1)}}{2} \\implies x=\\frac{1+\\sqrt{5}}{2}=\\phi.$$"
   ]
  },
  {
   "cell_type": "code",
   "execution_count": 7,
   "metadata": {},
   "outputs": [
    {
     "data": {
      "text/plain": [
       "1.618033988749895"
      ]
     },
     "execution_count": 7,
     "metadata": {},
     "output_type": "execute_result"
    }
   ],
   "source": [
    "import math\n",
    "\n",
    "(1+math.sqrt(5))/2"
   ]
  },
  {
   "cell_type": "markdown",
   "metadata": {},
   "source": [
    "### $a_i = 2$"
   ]
  },
  {
   "cell_type": "code",
   "execution_count": 8,
   "metadata": {},
   "outputs": [
    {
     "name": "stdout",
     "output_type": "stream",
     "text": [
      "2.414213562373095\n"
     ]
    }
   ],
   "source": [
    "frac = 1\n",
    "i = 0\n",
    "while i < 100:\n",
    "    frac = 2 + (1/frac)\n",
    "    i += 1\n",
    "print(frac)"
   ]
  },
  {
   "cell_type": "markdown",
   "metadata": {},
   "source": [
    "### $a_i=i$"
   ]
  },
  {
   "cell_type": "code",
   "execution_count": 9,
   "metadata": {},
   "outputs": [
    {
     "name": "stdout",
     "output_type": "stream",
     "text": [
      "0.697774657964008\n"
     ]
    }
   ],
   "source": [
    "n = 100\n",
    "frac = n\n",
    "i = n\n",
    "while i >= 0:\n",
    "    frac = i + (1/frac)\n",
    "    i -= 1\n",
    "print(frac)"
   ]
  },
  {
   "cell_type": "markdown",
   "metadata": {},
   "source": [
    "# 4. Continued roots\n",
    "\n",
    "### $$a_0 + \\sqrt{a_1 + \\sqrt{a_2 + \\sqrt{a_3 + \\sqrt{a_4 + \\sqrt{a_5 + \\dots}}}}}$$"
   ]
  },
  {
   "cell_type": "markdown",
   "metadata": {},
   "source": [
    "### $a_i = 1$"
   ]
  },
  {
   "cell_type": "code",
   "execution_count": 10,
   "metadata": {},
   "outputs": [
    {
     "name": "stdout",
     "output_type": "stream",
     "text": [
      "2.618033988749895\n"
     ]
    }
   ],
   "source": [
    "import math\n",
    "\n",
    "root = 1\n",
    "i = 0\n",
    "while i < 100:\n",
    "    root = 1 + math.sqrt(root)\n",
    "    i += 1\n",
    "print(root)"
   ]
  },
  {
   "cell_type": "markdown",
   "metadata": {},
   "source": [
    "### $a_i = 2$\n",
    "\n",
    "When $a_1=2$, write $$x= 2 + \\sqrt{2 + \\sqrt{\\dots}} = 2+\\sqrt{x}.$$\n",
    "Them\n",
    "$$(x-2)^2=x\\implies x^2-4x+4=x\\implies 0=x^2-5x+4=(x-4)(x-1).$$\n",
    "Since $x>2$, $x=4$."
   ]
  },
  {
   "cell_type": "code",
   "execution_count": 20,
   "metadata": {},
   "outputs": [
    {
     "name": "stdout",
     "output_type": "stream",
     "text": [
      "4.0\n"
     ]
    }
   ],
   "source": [
    "import math\n",
    "\n",
    "root = 1\n",
    "i = 0\n",
    "while i < 100:\n",
    "    root = 2 + math.sqrt(root)\n",
    "    i += 1\n",
    "print(root)"
   ]
  },
  {
   "cell_type": "markdown",
   "metadata": {},
   "source": [
    "### $a_i=i$"
   ]
  },
  {
   "cell_type": "code",
   "execution_count": 12,
   "metadata": {},
   "outputs": [
    {
     "name": "stdout",
     "output_type": "stream",
     "text": [
      "1.7579327566180045\n"
     ]
    }
   ],
   "source": [
    "import math\n",
    "\n",
    "n = 100\n",
    "root = n\n",
    "i = n\n",
    "while i >= 0:\n",
    "    root = i + math.sqrt(root)\n",
    "    i -= 1\n",
    "print(root)"
   ]
  },
  {
   "cell_type": "code",
   "execution_count": null,
   "metadata": {},
   "outputs": [],
   "source": []
  }
 ],
 "metadata": {
  "kernelspec": {
   "display_name": "Python 3",
   "language": "python",
   "name": "python3"
  },
  "language_info": {
   "codemirror_mode": {
    "name": "ipython",
    "version": 3
   },
   "file_extension": ".py",
   "mimetype": "text/x-python",
   "name": "python",
   "nbconvert_exporter": "python",
   "pygments_lexer": "ipython3",
   "version": "3.7.7"
  }
 },
 "nbformat": 4,
 "nbformat_minor": 4
}
